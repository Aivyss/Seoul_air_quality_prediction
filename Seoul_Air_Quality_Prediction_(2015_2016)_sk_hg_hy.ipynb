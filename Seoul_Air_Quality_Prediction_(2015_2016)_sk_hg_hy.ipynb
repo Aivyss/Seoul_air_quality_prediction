{
  "nbformat": 4,
  "nbformat_minor": 0,
  "metadata": {
    "colab": {
      "name": "C_log_scale_2_Seoul_Air_Quality_Prediction_(2015_2016)_sk_hg_hy.ipynb",
      "provenance": [],
      "collapsed_sections": [],
      "toc_visible": true
    },
    "kernelspec": {
      "name": "python3",
      "display_name": "Python 3"
    },
    "language_info": {
      "name": "python"
    },
    "accelerator": "GPU"
  },
  "cells": [
    {
      "cell_type": "markdown",
      "metadata": {
        "id": "ykvy8OwToYyu"
      },
      "source": [
        "1. テーマ\n",
        "ソウルのPM10とPM2.5を予測するマシンラーニング\n",
        "\n",
        "2. 企画、目標\n",
        "ソウルはPM10とPM2.5で悩まされ、外出するすると必ずマスクをつけるようになりました。韓国の国内で発生したものだとしたら、四季によることは少ないことが当然ですが、冬と春はひどく濃いPM2.5で、中国を疑っています。\n",
        "\n",
        "それで、私たちは北京とソウルの空気のデータを使い、ソウルの一年間のPM10とPM2.5の予報が出来るようにするとともにどのくらい中国からの影響があるのか試してみようとしております。\n"
      ]
    },
    {
      "cell_type": "markdown",
      "metadata": {
        "id": "QMR3hDknq4GX"
      },
      "source": [
        "# Package Import "
      ]
    },
    {
      "cell_type": "code",
      "metadata": {
        "id": "DQD-mexAnUBb"
      },
      "source": [
        "import tensorflow as tf\n",
        "import keras\n",
        "import numpy as np\n",
        "import pandas as pd\n",
        "import matplotlib\n",
        "import matplotlib.pyplot as plt"
      ],
      "execution_count": null,
      "outputs": []
    },
    {
      "cell_type": "markdown",
      "metadata": {
        "id": "a8IFPR0Vq9Fb"
      },
      "source": [
        "# Data Preprocessing"
      ]
    },
    {
      "cell_type": "markdown",
      "metadata": {
        "id": "7LzDSkEBF81a"
      },
      "source": [
        "## (Korea) String Date To Unix Time Stamp"
      ]
    },
    {
      "cell_type": "code",
      "metadata": {
        "id": "PhoJCNSBorUk"
      },
      "source": [
        "from datetime import datetime\n",
        "import time\n",
        "\n",
        "def make_date_list(np_list, col):\n",
        "  return_list = []\n",
        "  epoch_time = datetime(1970, 1, 1)\n",
        "  date_format = '%Y-%m-%d:%H'\n",
        "  \n",
        "\n",
        "  for row in np_list[col]:\n",
        "    tmp = row.split(':')\n",
        "    added_time = 0\n",
        "\n",
        "    if tmp[1] == '24':\n",
        "      row = tmp[0]+\":00\"\n",
        "      added_time = 86400\n",
        "    \n",
        "\n",
        "    return_list.append(\n",
        "        (datetime.strptime(row, date_format) - epoch_time).total_seconds() + added_time\n",
        "    )\n",
        "  \n",
        "  return return_list\n",
        "\n",
        "\n",
        "seoul_2015_df = pd.read_excel('2015_Air_Quality_Seoul.xls')\n",
        "seoul_2016_df = pd.read_excel('2016_Air_Quality_Seoul.xls')\n",
        "baek_2015_df = pd.read_excel('baek_2015.xls')\n",
        "baek_2016_df = pd.read_excel('baek_2016.xls')\n",
        "\n",
        "date_2015_list = make_date_list(seoul_2015_df, '날짜')\n",
        "date_2016_list = make_date_list(seoul_2016_df, '날짜')\n",
        "date_baek_2015_list = make_date_list(baek_2015_df, '날짜')\n",
        "date_baek_2016_list = make_date_list(baek_2016_df, '날짜')\n",
        "\n",
        "sr1 = pd.Series(date_2015_list, name='unix_time')\n",
        "sr2 = pd.Series(date_2016_list, name='unix_time')\n",
        "sr3 = pd.Series(date_baek_2015_list, name='unix_time')\n",
        "sr4 = pd.Series(date_baek_2016_list, name='unix_time')\n",
        "\n",
        "seoul_2015_df = seoul_2015_df.drop('날짜', axis=1)\n",
        "seoul_2016_df = seoul_2016_df.drop('날짜', axis=1)\n",
        "baek_2015_df = baek_2015_df.drop('날짜', axis=1)\n",
        "baek_2016_df = baek_2016_df.drop('날짜', axis=1)\n",
        "\n",
        "seoul_2015_df = pd.concat([sr1, seoul_2015_df], axis=1)\n",
        "seoul_2016_df = pd.concat([sr2, seoul_2016_df], axis=1)\n",
        "baek_2015_df = pd.concat([sr3, baek_2015_df], axis=1)\n",
        "baek_2016_df = pd.concat([sr4, baek_2016_df], axis=1)\n",
        "\n",
        "seoul_15_16_df = pd.concat([seoul_2015_df, seoul_2015_df], axis=0)\n",
        "baek_15_16_df = pd.concat([baek_2015_df, baek_2016_df], axis=0)"
      ],
      "execution_count": null,
      "outputs": []
    },
    {
      "cell_type": "code",
      "metadata": {
        "colab": {
          "base_uri": "https://localhost:8080/",
          "height": 419
        },
        "id": "QNHwZRPC91fg",
        "outputId": "7840fa36-91f8-4b16-8fdd-e1c6acafebcb"
      },
      "source": [
        "seoul_15_16_df"
      ],
      "execution_count": null,
      "outputs": [
        {
          "output_type": "execute_result",
          "data": {
            "text/html": [
              "<div>\n",
              "<style scoped>\n",
              "    .dataframe tbody tr th:only-of-type {\n",
              "        vertical-align: middle;\n",
              "    }\n",
              "\n",
              "    .dataframe tbody tr th {\n",
              "        vertical-align: top;\n",
              "    }\n",
              "\n",
              "    .dataframe thead th {\n",
              "        text-align: right;\n",
              "    }\n",
              "</style>\n",
              "<table border=\"1\" class=\"dataframe\">\n",
              "  <thead>\n",
              "    <tr style=\"text-align: right;\">\n",
              "      <th></th>\n",
              "      <th>unix_time</th>\n",
              "      <th>PM10(㎍/㎥)</th>\n",
              "      <th>PM2.5(㎍/㎥)</th>\n",
              "      <th>Ozone</th>\n",
              "      <th>NO2</th>\n",
              "      <th>NO</th>\n",
              "      <th>SO2</th>\n",
              "      <th>Wind speed</th>\n",
              "      <th>Wind direction</th>\n",
              "    </tr>\n",
              "  </thead>\n",
              "  <tbody>\n",
              "    <tr>\n",
              "      <th>0</th>\n",
              "      <td>1.420074e+09</td>\n",
              "      <td>44.0</td>\n",
              "      <td>7.0</td>\n",
              "      <td>0.022</td>\n",
              "      <td>0.011</td>\n",
              "      <td>0.6</td>\n",
              "      <td>0.006</td>\n",
              "      <td>4.7</td>\n",
              "      <td>WNW</td>\n",
              "    </tr>\n",
              "    <tr>\n",
              "      <th>1</th>\n",
              "      <td>1.420078e+09</td>\n",
              "      <td>57.0</td>\n",
              "      <td>10.0</td>\n",
              "      <td>0.022</td>\n",
              "      <td>0.010</td>\n",
              "      <td>0.6</td>\n",
              "      <td>0.006</td>\n",
              "      <td>4.5</td>\n",
              "      <td>WNW</td>\n",
              "    </tr>\n",
              "    <tr>\n",
              "      <th>2</th>\n",
              "      <td>1.420081e+09</td>\n",
              "      <td>76.0</td>\n",
              "      <td>10.0</td>\n",
              "      <td>0.021</td>\n",
              "      <td>0.010</td>\n",
              "      <td>0.6</td>\n",
              "      <td>0.006</td>\n",
              "      <td>3.8</td>\n",
              "      <td>WNW</td>\n",
              "    </tr>\n",
              "    <tr>\n",
              "      <th>3</th>\n",
              "      <td>1.420085e+09</td>\n",
              "      <td>86.0</td>\n",
              "      <td>11.0</td>\n",
              "      <td>0.022</td>\n",
              "      <td>0.009</td>\n",
              "      <td>0.6</td>\n",
              "      <td>0.006</td>\n",
              "      <td>4.9</td>\n",
              "      <td>WNW</td>\n",
              "    </tr>\n",
              "    <tr>\n",
              "      <th>4</th>\n",
              "      <td>1.420088e+09</td>\n",
              "      <td>106.0</td>\n",
              "      <td>12.0</td>\n",
              "      <td>0.021</td>\n",
              "      <td>0.009</td>\n",
              "      <td>0.5</td>\n",
              "      <td>0.006</td>\n",
              "      <td>5.7</td>\n",
              "      <td>WNW</td>\n",
              "    </tr>\n",
              "    <tr>\n",
              "      <th>...</th>\n",
              "      <td>...</td>\n",
              "      <td>...</td>\n",
              "      <td>...</td>\n",
              "      <td>...</td>\n",
              "      <td>...</td>\n",
              "      <td>...</td>\n",
              "      <td>...</td>\n",
              "      <td>...</td>\n",
              "      <td>...</td>\n",
              "    </tr>\n",
              "    <tr>\n",
              "      <th>8755</th>\n",
              "      <td>1.451592e+09</td>\n",
              "      <td>88.0</td>\n",
              "      <td>51.0</td>\n",
              "      <td>0.003</td>\n",
              "      <td>0.075</td>\n",
              "      <td>1.0</td>\n",
              "      <td>0.009</td>\n",
              "      <td>0.8</td>\n",
              "      <td>NE</td>\n",
              "    </tr>\n",
              "    <tr>\n",
              "      <th>8756</th>\n",
              "      <td>1.451596e+09</td>\n",
              "      <td>84.0</td>\n",
              "      <td>49.0</td>\n",
              "      <td>0.003</td>\n",
              "      <td>0.080</td>\n",
              "      <td>1.2</td>\n",
              "      <td>0.009</td>\n",
              "      <td>1.2</td>\n",
              "      <td>NE</td>\n",
              "    </tr>\n",
              "    <tr>\n",
              "      <th>8757</th>\n",
              "      <td>1.451599e+09</td>\n",
              "      <td>97.0</td>\n",
              "      <td>52.0</td>\n",
              "      <td>0.003</td>\n",
              "      <td>0.076</td>\n",
              "      <td>1.1</td>\n",
              "      <td>0.008</td>\n",
              "      <td>1.1</td>\n",
              "      <td>NE</td>\n",
              "    </tr>\n",
              "    <tr>\n",
              "      <th>8758</th>\n",
              "      <td>1.451603e+09</td>\n",
              "      <td>93.0</td>\n",
              "      <td>48.0</td>\n",
              "      <td>0.002</td>\n",
              "      <td>0.078</td>\n",
              "      <td>1.1</td>\n",
              "      <td>0.008</td>\n",
              "      <td>0.8</td>\n",
              "      <td>NE</td>\n",
              "    </tr>\n",
              "    <tr>\n",
              "      <th>8759</th>\n",
              "      <td>1.451606e+09</td>\n",
              "      <td>86.0</td>\n",
              "      <td>48.0</td>\n",
              "      <td>0.002</td>\n",
              "      <td>0.082</td>\n",
              "      <td>1.4</td>\n",
              "      <td>0.009</td>\n",
              "      <td>2.2</td>\n",
              "      <td>NNE</td>\n",
              "    </tr>\n",
              "  </tbody>\n",
              "</table>\n",
              "<p>17520 rows × 9 columns</p>\n",
              "</div>"
            ],
            "text/plain": [
              "         unix_time  PM10(㎍/㎥)  PM2.5(㎍/㎥)  ...    SO2  Wind speed  Wind direction\n",
              "0     1.420074e+09       44.0         7.0  ...  0.006         4.7             WNW\n",
              "1     1.420078e+09       57.0        10.0  ...  0.006         4.5             WNW\n",
              "2     1.420081e+09       76.0        10.0  ...  0.006         3.8             WNW\n",
              "3     1.420085e+09       86.0        11.0  ...  0.006         4.9             WNW\n",
              "4     1.420088e+09      106.0        12.0  ...  0.006         5.7             WNW\n",
              "...            ...        ...         ...  ...    ...         ...             ...\n",
              "8755  1.451592e+09       88.0        51.0  ...  0.009         0.8              NE\n",
              "8756  1.451596e+09       84.0        49.0  ...  0.009         1.2              NE\n",
              "8757  1.451599e+09       97.0        52.0  ...  0.008         1.1              NE\n",
              "8758  1.451603e+09       93.0        48.0  ...  0.008         0.8              NE\n",
              "8759  1.451606e+09       86.0        48.0  ...  0.009         2.2             NNE\n",
              "\n",
              "[17520 rows x 9 columns]"
            ]
          },
          "metadata": {
            "tags": []
          },
          "execution_count": 9
        }
      ]
    },
    {
      "cell_type": "code",
      "metadata": {
        "colab": {
          "base_uri": "https://localhost:8080/",
          "height": 419
        },
        "id": "SS758FVi93AG",
        "outputId": "62ecec32-5792-455f-8a44-989a0e3bc913"
      },
      "source": [
        "baek_15_16_df"
      ],
      "execution_count": null,
      "outputs": [
        {
          "output_type": "execute_result",
          "data": {
            "text/html": [
              "<div>\n",
              "<style scoped>\n",
              "    .dataframe tbody tr th:only-of-type {\n",
              "        vertical-align: middle;\n",
              "    }\n",
              "\n",
              "    .dataframe tbody tr th {\n",
              "        vertical-align: top;\n",
              "    }\n",
              "\n",
              "    .dataframe thead th {\n",
              "        text-align: right;\n",
              "    }\n",
              "</style>\n",
              "<table border=\"1\" class=\"dataframe\">\n",
              "  <thead>\n",
              "    <tr style=\"text-align: right;\">\n",
              "      <th></th>\n",
              "      <th>unix_time</th>\n",
              "      <th>PM10(㎍/㎥)</th>\n",
              "      <th>PM2.5(㎍/㎥)</th>\n",
              "      <th>Ozone</th>\n",
              "      <th>NO2</th>\n",
              "      <th>NO</th>\n",
              "      <th>SO2</th>\n",
              "      <th>Wind speed</th>\n",
              "      <th>Wind direction</th>\n",
              "    </tr>\n",
              "  </thead>\n",
              "  <tbody>\n",
              "    <tr>\n",
              "      <th>0</th>\n",
              "      <td>1.420074e+09</td>\n",
              "      <td>106.0</td>\n",
              "      <td>9.0</td>\n",
              "      <td>0.029</td>\n",
              "      <td>0.002</td>\n",
              "      <td>0.2</td>\n",
              "      <td>0.003</td>\n",
              "      <td>8.4</td>\n",
              "      <td>WNW</td>\n",
              "    </tr>\n",
              "    <tr>\n",
              "      <th>1</th>\n",
              "      <td>1.420078e+09</td>\n",
              "      <td>114.0</td>\n",
              "      <td>11.0</td>\n",
              "      <td>0.029</td>\n",
              "      <td>0.002</td>\n",
              "      <td>0.2</td>\n",
              "      <td>0.003</td>\n",
              "      <td>8.7</td>\n",
              "      <td>WNW</td>\n",
              "    </tr>\n",
              "    <tr>\n",
              "      <th>2</th>\n",
              "      <td>1.420081e+09</td>\n",
              "      <td>113.0</td>\n",
              "      <td>12.0</td>\n",
              "      <td>0.028</td>\n",
              "      <td>0.003</td>\n",
              "      <td>0.2</td>\n",
              "      <td>0.003</td>\n",
              "      <td>9.1</td>\n",
              "      <td>WNW</td>\n",
              "    </tr>\n",
              "    <tr>\n",
              "      <th>3</th>\n",
              "      <td>1.420085e+09</td>\n",
              "      <td>120.0</td>\n",
              "      <td>13.0</td>\n",
              "      <td>0.027</td>\n",
              "      <td>0.003</td>\n",
              "      <td>0.2</td>\n",
              "      <td>0.003</td>\n",
              "      <td>7.9</td>\n",
              "      <td>WNW</td>\n",
              "    </tr>\n",
              "    <tr>\n",
              "      <th>4</th>\n",
              "      <td>1.420088e+09</td>\n",
              "      <td>96.0</td>\n",
              "      <td>17.0</td>\n",
              "      <td>0.027</td>\n",
              "      <td>0.003</td>\n",
              "      <td>0.2</td>\n",
              "      <td>0.003</td>\n",
              "      <td>6.8</td>\n",
              "      <td>WNW</td>\n",
              "    </tr>\n",
              "    <tr>\n",
              "      <th>...</th>\n",
              "      <td>...</td>\n",
              "      <td>...</td>\n",
              "      <td>...</td>\n",
              "      <td>...</td>\n",
              "      <td>...</td>\n",
              "      <td>...</td>\n",
              "      <td>...</td>\n",
              "      <td>...</td>\n",
              "      <td>...</td>\n",
              "    </tr>\n",
              "    <tr>\n",
              "      <th>8773</th>\n",
              "      <td>1.483211e+09</td>\n",
              "      <td>76.0</td>\n",
              "      <td>48.0</td>\n",
              "      <td>0.051</td>\n",
              "      <td>0.002</td>\n",
              "      <td>0.6</td>\n",
              "      <td>0.005</td>\n",
              "      <td>1.9</td>\n",
              "      <td>WSW</td>\n",
              "    </tr>\n",
              "    <tr>\n",
              "      <th>8774</th>\n",
              "      <td>1.483214e+09</td>\n",
              "      <td>79.0</td>\n",
              "      <td>54.0</td>\n",
              "      <td>0.050</td>\n",
              "      <td>0.002</td>\n",
              "      <td>0.6</td>\n",
              "      <td>0.006</td>\n",
              "      <td>1.6</td>\n",
              "      <td>WSW</td>\n",
              "    </tr>\n",
              "    <tr>\n",
              "      <th>8775</th>\n",
              "      <td>1.483218e+09</td>\n",
              "      <td>86.0</td>\n",
              "      <td>56.0</td>\n",
              "      <td>0.050</td>\n",
              "      <td>0.002</td>\n",
              "      <td>0.6</td>\n",
              "      <td>0.006</td>\n",
              "      <td>2.4</td>\n",
              "      <td>WSW</td>\n",
              "    </tr>\n",
              "    <tr>\n",
              "      <th>8776</th>\n",
              "      <td>1.483222e+09</td>\n",
              "      <td>87.0</td>\n",
              "      <td>57.0</td>\n",
              "      <td>0.047</td>\n",
              "      <td>0.002</td>\n",
              "      <td>0.5</td>\n",
              "      <td>0.007</td>\n",
              "      <td>3.0</td>\n",
              "      <td>WSW</td>\n",
              "    </tr>\n",
              "    <tr>\n",
              "      <th>8777</th>\n",
              "      <td>1.483225e+09</td>\n",
              "      <td>75.0</td>\n",
              "      <td>51.0</td>\n",
              "      <td>0.044</td>\n",
              "      <td>0.002</td>\n",
              "      <td>0.5</td>\n",
              "      <td>0.007</td>\n",
              "      <td>3.0</td>\n",
              "      <td>WSW</td>\n",
              "    </tr>\n",
              "  </tbody>\n",
              "</table>\n",
              "<p>17537 rows × 9 columns</p>\n",
              "</div>"
            ],
            "text/plain": [
              "         unix_time  PM10(㎍/㎥)  PM2.5(㎍/㎥)  ...    SO2  Wind speed  Wind direction\n",
              "0     1.420074e+09      106.0         9.0  ...  0.003         8.4             WNW\n",
              "1     1.420078e+09      114.0        11.0  ...  0.003         8.7             WNW\n",
              "2     1.420081e+09      113.0        12.0  ...  0.003         9.1             WNW\n",
              "3     1.420085e+09      120.0        13.0  ...  0.003         7.9             WNW\n",
              "4     1.420088e+09       96.0        17.0  ...  0.003         6.8             WNW\n",
              "...            ...        ...         ...  ...    ...         ...             ...\n",
              "8773  1.483211e+09       76.0        48.0  ...  0.005         1.9             WSW\n",
              "8774  1.483214e+09       79.0        54.0  ...  0.006         1.6             WSW\n",
              "8775  1.483218e+09       86.0        56.0  ...  0.006         2.4             WSW\n",
              "8776  1.483222e+09       87.0        57.0  ...  0.007         3.0             WSW\n",
              "8777  1.483225e+09       75.0        51.0  ...  0.007         3.0             WSW\n",
              "\n",
              "[17537 rows x 9 columns]"
            ]
          },
          "metadata": {
            "tags": []
          },
          "execution_count": 10
        }
      ]
    },
    {
      "cell_type": "markdown",
      "metadata": {
        "id": "KJ_CVtVaGB1n"
      },
      "source": [
        "## (Korea) Drop some of useless columns and remove null values"
      ]
    },
    {
      "cell_type": "code",
      "metadata": {
        "id": "CuqgKhvU_Y4Q",
        "colab": {
          "base_uri": "https://localhost:8080/",
          "height": 419
        },
        "outputId": "52e1f5fe-d93e-4fc4-feaf-79cd8d90a5b9"
      },
      "source": [
        "seoul_15_16_df = seoul_15_16_df.drop(['Ozone', 'NO2', 'NO', 'SO2',], axis=1).dropna()\n",
        "seoul_15_16_df"
      ],
      "execution_count": null,
      "outputs": [
        {
          "output_type": "execute_result",
          "data": {
            "text/html": [
              "<div>\n",
              "<style scoped>\n",
              "    .dataframe tbody tr th:only-of-type {\n",
              "        vertical-align: middle;\n",
              "    }\n",
              "\n",
              "    .dataframe tbody tr th {\n",
              "        vertical-align: top;\n",
              "    }\n",
              "\n",
              "    .dataframe thead th {\n",
              "        text-align: right;\n",
              "    }\n",
              "</style>\n",
              "<table border=\"1\" class=\"dataframe\">\n",
              "  <thead>\n",
              "    <tr style=\"text-align: right;\">\n",
              "      <th></th>\n",
              "      <th>unix_time</th>\n",
              "      <th>PM10(㎍/㎥)</th>\n",
              "      <th>PM2.5(㎍/㎥)</th>\n",
              "      <th>Wind speed</th>\n",
              "      <th>Wind direction</th>\n",
              "    </tr>\n",
              "  </thead>\n",
              "  <tbody>\n",
              "    <tr>\n",
              "      <th>0</th>\n",
              "      <td>1.420074e+09</td>\n",
              "      <td>44.0</td>\n",
              "      <td>7.0</td>\n",
              "      <td>4.7</td>\n",
              "      <td>WNW</td>\n",
              "    </tr>\n",
              "    <tr>\n",
              "      <th>1</th>\n",
              "      <td>1.420078e+09</td>\n",
              "      <td>57.0</td>\n",
              "      <td>10.0</td>\n",
              "      <td>4.5</td>\n",
              "      <td>WNW</td>\n",
              "    </tr>\n",
              "    <tr>\n",
              "      <th>2</th>\n",
              "      <td>1.420081e+09</td>\n",
              "      <td>76.0</td>\n",
              "      <td>10.0</td>\n",
              "      <td>3.8</td>\n",
              "      <td>WNW</td>\n",
              "    </tr>\n",
              "    <tr>\n",
              "      <th>3</th>\n",
              "      <td>1.420085e+09</td>\n",
              "      <td>86.0</td>\n",
              "      <td>11.0</td>\n",
              "      <td>4.9</td>\n",
              "      <td>WNW</td>\n",
              "    </tr>\n",
              "    <tr>\n",
              "      <th>4</th>\n",
              "      <td>1.420088e+09</td>\n",
              "      <td>106.0</td>\n",
              "      <td>12.0</td>\n",
              "      <td>5.7</td>\n",
              "      <td>WNW</td>\n",
              "    </tr>\n",
              "    <tr>\n",
              "      <th>...</th>\n",
              "      <td>...</td>\n",
              "      <td>...</td>\n",
              "      <td>...</td>\n",
              "      <td>...</td>\n",
              "      <td>...</td>\n",
              "    </tr>\n",
              "    <tr>\n",
              "      <th>8755</th>\n",
              "      <td>1.451592e+09</td>\n",
              "      <td>88.0</td>\n",
              "      <td>51.0</td>\n",
              "      <td>0.8</td>\n",
              "      <td>NE</td>\n",
              "    </tr>\n",
              "    <tr>\n",
              "      <th>8756</th>\n",
              "      <td>1.451596e+09</td>\n",
              "      <td>84.0</td>\n",
              "      <td>49.0</td>\n",
              "      <td>1.2</td>\n",
              "      <td>NE</td>\n",
              "    </tr>\n",
              "    <tr>\n",
              "      <th>8757</th>\n",
              "      <td>1.451599e+09</td>\n",
              "      <td>97.0</td>\n",
              "      <td>52.0</td>\n",
              "      <td>1.1</td>\n",
              "      <td>NE</td>\n",
              "    </tr>\n",
              "    <tr>\n",
              "      <th>8758</th>\n",
              "      <td>1.451603e+09</td>\n",
              "      <td>93.0</td>\n",
              "      <td>48.0</td>\n",
              "      <td>0.8</td>\n",
              "      <td>NE</td>\n",
              "    </tr>\n",
              "    <tr>\n",
              "      <th>8759</th>\n",
              "      <td>1.451606e+09</td>\n",
              "      <td>86.0</td>\n",
              "      <td>48.0</td>\n",
              "      <td>2.2</td>\n",
              "      <td>NNE</td>\n",
              "    </tr>\n",
              "  </tbody>\n",
              "</table>\n",
              "<p>16966 rows × 5 columns</p>\n",
              "</div>"
            ],
            "text/plain": [
              "         unix_time  PM10(㎍/㎥)  PM2.5(㎍/㎥)  Wind speed Wind direction\n",
              "0     1.420074e+09       44.0         7.0         4.7            WNW\n",
              "1     1.420078e+09       57.0        10.0         4.5            WNW\n",
              "2     1.420081e+09       76.0        10.0         3.8            WNW\n",
              "3     1.420085e+09       86.0        11.0         4.9            WNW\n",
              "4     1.420088e+09      106.0        12.0         5.7            WNW\n",
              "...            ...        ...         ...         ...            ...\n",
              "8755  1.451592e+09       88.0        51.0         0.8             NE\n",
              "8756  1.451596e+09       84.0        49.0         1.2             NE\n",
              "8757  1.451599e+09       97.0        52.0         1.1             NE\n",
              "8758  1.451603e+09       93.0        48.0         0.8             NE\n",
              "8759  1.451606e+09       86.0        48.0         2.2            NNE\n",
              "\n",
              "[16966 rows x 5 columns]"
            ]
          },
          "metadata": {
            "tags": []
          },
          "execution_count": 11
        }
      ]
    },
    {
      "cell_type": "code",
      "metadata": {
        "colab": {
          "base_uri": "https://localhost:8080/",
          "height": 419
        },
        "id": "Q4RGVymoB5Az",
        "outputId": "e1d35bbc-8b8d-41fe-9fdc-32e270ee0454"
      },
      "source": [
        "baek_15_16_df = baek_15_16_df.drop(['Ozone', 'NO2', 'NO', 'SO2',], axis=1).dropna()\n",
        "baek_15_16_df"
      ],
      "execution_count": null,
      "outputs": [
        {
          "output_type": "execute_result",
          "data": {
            "text/html": [
              "<div>\n",
              "<style scoped>\n",
              "    .dataframe tbody tr th:only-of-type {\n",
              "        vertical-align: middle;\n",
              "    }\n",
              "\n",
              "    .dataframe tbody tr th {\n",
              "        vertical-align: top;\n",
              "    }\n",
              "\n",
              "    .dataframe thead th {\n",
              "        text-align: right;\n",
              "    }\n",
              "</style>\n",
              "<table border=\"1\" class=\"dataframe\">\n",
              "  <thead>\n",
              "    <tr style=\"text-align: right;\">\n",
              "      <th></th>\n",
              "      <th>unix_time</th>\n",
              "      <th>PM10(㎍/㎥)</th>\n",
              "      <th>PM2.5(㎍/㎥)</th>\n",
              "      <th>Wind speed</th>\n",
              "      <th>Wind direction</th>\n",
              "    </tr>\n",
              "  </thead>\n",
              "  <tbody>\n",
              "    <tr>\n",
              "      <th>0</th>\n",
              "      <td>1.420074e+09</td>\n",
              "      <td>106.0</td>\n",
              "      <td>9.0</td>\n",
              "      <td>8.4</td>\n",
              "      <td>WNW</td>\n",
              "    </tr>\n",
              "    <tr>\n",
              "      <th>1</th>\n",
              "      <td>1.420078e+09</td>\n",
              "      <td>114.0</td>\n",
              "      <td>11.0</td>\n",
              "      <td>8.7</td>\n",
              "      <td>WNW</td>\n",
              "    </tr>\n",
              "    <tr>\n",
              "      <th>2</th>\n",
              "      <td>1.420081e+09</td>\n",
              "      <td>113.0</td>\n",
              "      <td>12.0</td>\n",
              "      <td>9.1</td>\n",
              "      <td>WNW</td>\n",
              "    </tr>\n",
              "    <tr>\n",
              "      <th>3</th>\n",
              "      <td>1.420085e+09</td>\n",
              "      <td>120.0</td>\n",
              "      <td>13.0</td>\n",
              "      <td>7.9</td>\n",
              "      <td>WNW</td>\n",
              "    </tr>\n",
              "    <tr>\n",
              "      <th>4</th>\n",
              "      <td>1.420088e+09</td>\n",
              "      <td>96.0</td>\n",
              "      <td>17.0</td>\n",
              "      <td>6.8</td>\n",
              "      <td>WNW</td>\n",
              "    </tr>\n",
              "    <tr>\n",
              "      <th>...</th>\n",
              "      <td>...</td>\n",
              "      <td>...</td>\n",
              "      <td>...</td>\n",
              "      <td>...</td>\n",
              "      <td>...</td>\n",
              "    </tr>\n",
              "    <tr>\n",
              "      <th>8773</th>\n",
              "      <td>1.483211e+09</td>\n",
              "      <td>76.0</td>\n",
              "      <td>48.0</td>\n",
              "      <td>1.9</td>\n",
              "      <td>WSW</td>\n",
              "    </tr>\n",
              "    <tr>\n",
              "      <th>8774</th>\n",
              "      <td>1.483214e+09</td>\n",
              "      <td>79.0</td>\n",
              "      <td>54.0</td>\n",
              "      <td>1.6</td>\n",
              "      <td>WSW</td>\n",
              "    </tr>\n",
              "    <tr>\n",
              "      <th>8775</th>\n",
              "      <td>1.483218e+09</td>\n",
              "      <td>86.0</td>\n",
              "      <td>56.0</td>\n",
              "      <td>2.4</td>\n",
              "      <td>WSW</td>\n",
              "    </tr>\n",
              "    <tr>\n",
              "      <th>8776</th>\n",
              "      <td>1.483222e+09</td>\n",
              "      <td>87.0</td>\n",
              "      <td>57.0</td>\n",
              "      <td>3.0</td>\n",
              "      <td>WSW</td>\n",
              "    </tr>\n",
              "    <tr>\n",
              "      <th>8777</th>\n",
              "      <td>1.483225e+09</td>\n",
              "      <td>75.0</td>\n",
              "      <td>51.0</td>\n",
              "      <td>3.0</td>\n",
              "      <td>WSW</td>\n",
              "    </tr>\n",
              "  </tbody>\n",
              "</table>\n",
              "<p>15843 rows × 5 columns</p>\n",
              "</div>"
            ],
            "text/plain": [
              "         unix_time  PM10(㎍/㎥)  PM2.5(㎍/㎥)  Wind speed Wind direction\n",
              "0     1.420074e+09      106.0         9.0         8.4            WNW\n",
              "1     1.420078e+09      114.0        11.0         8.7            WNW\n",
              "2     1.420081e+09      113.0        12.0         9.1            WNW\n",
              "3     1.420085e+09      120.0        13.0         7.9            WNW\n",
              "4     1.420088e+09       96.0        17.0         6.8            WNW\n",
              "...            ...        ...         ...         ...            ...\n",
              "8773  1.483211e+09       76.0        48.0         1.9            WSW\n",
              "8774  1.483214e+09       79.0        54.0         1.6            WSW\n",
              "8775  1.483218e+09       86.0        56.0         2.4            WSW\n",
              "8776  1.483222e+09       87.0        57.0         3.0            WSW\n",
              "8777  1.483225e+09       75.0        51.0         3.0            WSW\n",
              "\n",
              "[15843 rows x 5 columns]"
            ]
          },
          "metadata": {
            "tags": []
          },
          "execution_count": 12
        }
      ]
    },
    {
      "cell_type": "markdown",
      "metadata": {
        "id": "E0_jOdR86ZXw"
      },
      "source": [
        "## (Korea) Categorize wind direction"
      ]
    },
    {
      "cell_type": "code",
      "metadata": {
        "id": "fPtvscTMAjSS",
        "colab": {
          "base_uri": "https://localhost:8080/",
          "height": 419
        },
        "outputId": "bc27b52f-9bc8-4d76-a1c0-3c09961059b6"
      },
      "source": [
        "from sklearn.preprocessing import StandardScaler\n",
        "from sklearn.preprocessing import LabelEncoder\n",
        "\n",
        "encoder = LabelEncoder()\n",
        "wd_seoul = encoder.fit_transform(seoul_15_16_df['Wind direction'])\n",
        "wd_baek = encoder.fit_transform(baek_15_16_df['Wind direction'])\n",
        "wd_seoul = pd.Series(wd_seoul.tolist(), name='Wind direction')\n",
        "wd_baek = pd.Series(wd_baek.tolist(), name='Wind direction')\n",
        "seoul_15_16_df = seoul_15_16_df.reset_index()\n",
        "baek_15_16_df = baek_15_16_df.reset_index()\n",
        "\n",
        "seoul_15_16_df = seoul_15_16_df.drop('Wind direction', axis=1)\n",
        "baek_15_16_df = baek_15_16_df.drop('Wind direction', axis=1)\n",
        "seoul_15_16_df = pd.concat([seoul_15_16_df, wd_seoul], axis=1)\n",
        "baek_15_16_df = pd.concat([baek_15_16_df, wd_baek], axis=1)\n",
        "\n",
        "seoul_15_16_df = seoul_15_16_df.drop('index', axis=1)\n",
        "seoul_15_16_df.columns = ['unix_time', 'PM10_seoul', 'PM2.5_seoul', 'WS_seoul', 'WD_seoul']\n",
        "seoul_15_16_df"
      ],
      "execution_count": null,
      "outputs": [
        {
          "output_type": "execute_result",
          "data": {
            "text/html": [
              "<div>\n",
              "<style scoped>\n",
              "    .dataframe tbody tr th:only-of-type {\n",
              "        vertical-align: middle;\n",
              "    }\n",
              "\n",
              "    .dataframe tbody tr th {\n",
              "        vertical-align: top;\n",
              "    }\n",
              "\n",
              "    .dataframe thead th {\n",
              "        text-align: right;\n",
              "    }\n",
              "</style>\n",
              "<table border=\"1\" class=\"dataframe\">\n",
              "  <thead>\n",
              "    <tr style=\"text-align: right;\">\n",
              "      <th></th>\n",
              "      <th>unix_time</th>\n",
              "      <th>PM10_seoul</th>\n",
              "      <th>PM2.5_seoul</th>\n",
              "      <th>WS_seoul</th>\n",
              "      <th>WD_seoul</th>\n",
              "    </tr>\n",
              "  </thead>\n",
              "  <tbody>\n",
              "    <tr>\n",
              "      <th>0</th>\n",
              "      <td>1.420074e+09</td>\n",
              "      <td>44.0</td>\n",
              "      <td>7.0</td>\n",
              "      <td>4.7</td>\n",
              "      <td>14</td>\n",
              "    </tr>\n",
              "    <tr>\n",
              "      <th>1</th>\n",
              "      <td>1.420078e+09</td>\n",
              "      <td>57.0</td>\n",
              "      <td>10.0</td>\n",
              "      <td>4.5</td>\n",
              "      <td>14</td>\n",
              "    </tr>\n",
              "    <tr>\n",
              "      <th>2</th>\n",
              "      <td>1.420081e+09</td>\n",
              "      <td>76.0</td>\n",
              "      <td>10.0</td>\n",
              "      <td>3.8</td>\n",
              "      <td>14</td>\n",
              "    </tr>\n",
              "    <tr>\n",
              "      <th>3</th>\n",
              "      <td>1.420085e+09</td>\n",
              "      <td>86.0</td>\n",
              "      <td>11.0</td>\n",
              "      <td>4.9</td>\n",
              "      <td>14</td>\n",
              "    </tr>\n",
              "    <tr>\n",
              "      <th>4</th>\n",
              "      <td>1.420088e+09</td>\n",
              "      <td>106.0</td>\n",
              "      <td>12.0</td>\n",
              "      <td>5.7</td>\n",
              "      <td>14</td>\n",
              "    </tr>\n",
              "    <tr>\n",
              "      <th>...</th>\n",
              "      <td>...</td>\n",
              "      <td>...</td>\n",
              "      <td>...</td>\n",
              "      <td>...</td>\n",
              "      <td>...</td>\n",
              "    </tr>\n",
              "    <tr>\n",
              "      <th>16961</th>\n",
              "      <td>1.451592e+09</td>\n",
              "      <td>88.0</td>\n",
              "      <td>51.0</td>\n",
              "      <td>0.8</td>\n",
              "      <td>4</td>\n",
              "    </tr>\n",
              "    <tr>\n",
              "      <th>16962</th>\n",
              "      <td>1.451596e+09</td>\n",
              "      <td>84.0</td>\n",
              "      <td>49.0</td>\n",
              "      <td>1.2</td>\n",
              "      <td>4</td>\n",
              "    </tr>\n",
              "    <tr>\n",
              "      <th>16963</th>\n",
              "      <td>1.451599e+09</td>\n",
              "      <td>97.0</td>\n",
              "      <td>52.0</td>\n",
              "      <td>1.1</td>\n",
              "      <td>4</td>\n",
              "    </tr>\n",
              "    <tr>\n",
              "      <th>16964</th>\n",
              "      <td>1.451603e+09</td>\n",
              "      <td>93.0</td>\n",
              "      <td>48.0</td>\n",
              "      <td>0.8</td>\n",
              "      <td>4</td>\n",
              "    </tr>\n",
              "    <tr>\n",
              "      <th>16965</th>\n",
              "      <td>1.451606e+09</td>\n",
              "      <td>86.0</td>\n",
              "      <td>48.0</td>\n",
              "      <td>2.2</td>\n",
              "      <td>5</td>\n",
              "    </tr>\n",
              "  </tbody>\n",
              "</table>\n",
              "<p>16966 rows × 5 columns</p>\n",
              "</div>"
            ],
            "text/plain": [
              "          unix_time  PM10_seoul  PM2.5_seoul  WS_seoul  WD_seoul\n",
              "0      1.420074e+09        44.0          7.0       4.7        14\n",
              "1      1.420078e+09        57.0         10.0       4.5        14\n",
              "2      1.420081e+09        76.0         10.0       3.8        14\n",
              "3      1.420085e+09        86.0         11.0       4.9        14\n",
              "4      1.420088e+09       106.0         12.0       5.7        14\n",
              "...             ...         ...          ...       ...       ...\n",
              "16961  1.451592e+09        88.0         51.0       0.8         4\n",
              "16962  1.451596e+09        84.0         49.0       1.2         4\n",
              "16963  1.451599e+09        97.0         52.0       1.1         4\n",
              "16964  1.451603e+09        93.0         48.0       0.8         4\n",
              "16965  1.451606e+09        86.0         48.0       2.2         5\n",
              "\n",
              "[16966 rows x 5 columns]"
            ]
          },
          "metadata": {
            "tags": []
          },
          "execution_count": 13
        }
      ]
    },
    {
      "cell_type": "code",
      "metadata": {
        "colab": {
          "base_uri": "https://localhost:8080/",
          "height": 419
        },
        "id": "x9xLzdhZChzZ",
        "outputId": "801edef8-7d28-4348-93bb-2853c8fcd9b7"
      },
      "source": [
        "baek_15_16_df = baek_15_16_df.drop('index', axis=1)\n",
        "baek_15_16_df.columns = ['unix_time', 'PM10_baek', 'PM2.5_baek', 'WS_baek', 'WD_baek']\n",
        "baek_15_16_df"
      ],
      "execution_count": null,
      "outputs": [
        {
          "output_type": "execute_result",
          "data": {
            "text/html": [
              "<div>\n",
              "<style scoped>\n",
              "    .dataframe tbody tr th:only-of-type {\n",
              "        vertical-align: middle;\n",
              "    }\n",
              "\n",
              "    .dataframe tbody tr th {\n",
              "        vertical-align: top;\n",
              "    }\n",
              "\n",
              "    .dataframe thead th {\n",
              "        text-align: right;\n",
              "    }\n",
              "</style>\n",
              "<table border=\"1\" class=\"dataframe\">\n",
              "  <thead>\n",
              "    <tr style=\"text-align: right;\">\n",
              "      <th></th>\n",
              "      <th>unix_time</th>\n",
              "      <th>PM10_baek</th>\n",
              "      <th>PM2.5_baek</th>\n",
              "      <th>WS_baek</th>\n",
              "      <th>WD_baek</th>\n",
              "    </tr>\n",
              "  </thead>\n",
              "  <tbody>\n",
              "    <tr>\n",
              "      <th>0</th>\n",
              "      <td>1.420074e+09</td>\n",
              "      <td>106.0</td>\n",
              "      <td>9.0</td>\n",
              "      <td>8.4</td>\n",
              "      <td>14</td>\n",
              "    </tr>\n",
              "    <tr>\n",
              "      <th>1</th>\n",
              "      <td>1.420078e+09</td>\n",
              "      <td>114.0</td>\n",
              "      <td>11.0</td>\n",
              "      <td>8.7</td>\n",
              "      <td>14</td>\n",
              "    </tr>\n",
              "    <tr>\n",
              "      <th>2</th>\n",
              "      <td>1.420081e+09</td>\n",
              "      <td>113.0</td>\n",
              "      <td>12.0</td>\n",
              "      <td>9.1</td>\n",
              "      <td>14</td>\n",
              "    </tr>\n",
              "    <tr>\n",
              "      <th>3</th>\n",
              "      <td>1.420085e+09</td>\n",
              "      <td>120.0</td>\n",
              "      <td>13.0</td>\n",
              "      <td>7.9</td>\n",
              "      <td>14</td>\n",
              "    </tr>\n",
              "    <tr>\n",
              "      <th>4</th>\n",
              "      <td>1.420088e+09</td>\n",
              "      <td>96.0</td>\n",
              "      <td>17.0</td>\n",
              "      <td>6.8</td>\n",
              "      <td>14</td>\n",
              "    </tr>\n",
              "    <tr>\n",
              "      <th>...</th>\n",
              "      <td>...</td>\n",
              "      <td>...</td>\n",
              "      <td>...</td>\n",
              "      <td>...</td>\n",
              "      <td>...</td>\n",
              "    </tr>\n",
              "    <tr>\n",
              "      <th>15838</th>\n",
              "      <td>1.483211e+09</td>\n",
              "      <td>76.0</td>\n",
              "      <td>48.0</td>\n",
              "      <td>1.9</td>\n",
              "      <td>15</td>\n",
              "    </tr>\n",
              "    <tr>\n",
              "      <th>15839</th>\n",
              "      <td>1.483214e+09</td>\n",
              "      <td>79.0</td>\n",
              "      <td>54.0</td>\n",
              "      <td>1.6</td>\n",
              "      <td>15</td>\n",
              "    </tr>\n",
              "    <tr>\n",
              "      <th>15840</th>\n",
              "      <td>1.483218e+09</td>\n",
              "      <td>86.0</td>\n",
              "      <td>56.0</td>\n",
              "      <td>2.4</td>\n",
              "      <td>15</td>\n",
              "    </tr>\n",
              "    <tr>\n",
              "      <th>15841</th>\n",
              "      <td>1.483222e+09</td>\n",
              "      <td>87.0</td>\n",
              "      <td>57.0</td>\n",
              "      <td>3.0</td>\n",
              "      <td>15</td>\n",
              "    </tr>\n",
              "    <tr>\n",
              "      <th>15842</th>\n",
              "      <td>1.483225e+09</td>\n",
              "      <td>75.0</td>\n",
              "      <td>51.0</td>\n",
              "      <td>3.0</td>\n",
              "      <td>15</td>\n",
              "    </tr>\n",
              "  </tbody>\n",
              "</table>\n",
              "<p>15843 rows × 5 columns</p>\n",
              "</div>"
            ],
            "text/plain": [
              "          unix_time  PM10_baek  PM2.5_baek  WS_baek  WD_baek\n",
              "0      1.420074e+09      106.0         9.0      8.4       14\n",
              "1      1.420078e+09      114.0        11.0      8.7       14\n",
              "2      1.420081e+09      113.0        12.0      9.1       14\n",
              "3      1.420085e+09      120.0        13.0      7.9       14\n",
              "4      1.420088e+09       96.0        17.0      6.8       14\n",
              "...             ...        ...         ...      ...      ...\n",
              "15838  1.483211e+09       76.0        48.0      1.9       15\n",
              "15839  1.483214e+09       79.0        54.0      1.6       15\n",
              "15840  1.483218e+09       86.0        56.0      2.4       15\n",
              "15841  1.483222e+09       87.0        57.0      3.0       15\n",
              "15842  1.483225e+09       75.0        51.0      3.0       15\n",
              "\n",
              "[15843 rows x 5 columns]"
            ]
          },
          "metadata": {
            "tags": []
          },
          "execution_count": 14
        }
      ]
    },
    {
      "cell_type": "markdown",
      "metadata": {
        "id": "J05VIFU2IUtw"
      },
      "source": [
        "## (Beijing) String Date to Unix Stamp "
      ]
    },
    {
      "cell_type": "code",
      "metadata": {
        "id": "zVWAUwTZIae3",
        "colab": {
          "base_uri": "https://localhost:8080/",
          "height": 419
        },
        "outputId": "a7ef5434-ba63-4dc6-9e66-2d90c8fa6150"
      },
      "source": [
        "china_df = pd.read_csv('2015-2017 PRSA_Data_Aotizhongxin.csv')\n",
        "china_strdate_df = china_df.loc[:, 'year':'hour'].astype('str')\n",
        "china_sr = china_strdate_df['year'] + '-' + china_strdate_df['month'] + '-' + china_strdate_df['day'] + ':' + china_strdate_df['hour']\n",
        "china_sr = china_sr.rename('날짜')\n",
        "\n",
        "china_df = china_df.drop(['No', 'year', 'month', 'day', 'hour'], axis=1)\n",
        "china_df = pd.concat([china_sr, china_df], axis=1)\n",
        "\n",
        "china_time_stamp_list = date_2015_list = make_date_list(china_df, '날짜')\n",
        "china_sr = pd.Series(china_time_stamp_list, name='unix_time')\n",
        "china_df = china_df.drop('날짜', axis=1)\n",
        "china_df = pd.concat([china_sr, china_df], axis=1)\n",
        "china_df"
      ],
      "execution_count": null,
      "outputs": [
        {
          "output_type": "execute_result",
          "data": {
            "text/html": [
              "<div>\n",
              "<style scoped>\n",
              "    .dataframe tbody tr th:only-of-type {\n",
              "        vertical-align: middle;\n",
              "    }\n",
              "\n",
              "    .dataframe tbody tr th {\n",
              "        vertical-align: top;\n",
              "    }\n",
              "\n",
              "    .dataframe thead th {\n",
              "        text-align: right;\n",
              "    }\n",
              "</style>\n",
              "<table border=\"1\" class=\"dataframe\">\n",
              "  <thead>\n",
              "    <tr style=\"text-align: right;\">\n",
              "      <th></th>\n",
              "      <th>unix_time</th>\n",
              "      <th>PM2.5</th>\n",
              "      <th>PM10</th>\n",
              "      <th>SO2</th>\n",
              "      <th>NO2</th>\n",
              "      <th>CO</th>\n",
              "      <th>O3</th>\n",
              "      <th>TEMP</th>\n",
              "      <th>PRES</th>\n",
              "      <th>DEWP</th>\n",
              "      <th>RAIN</th>\n",
              "      <th>wd</th>\n",
              "      <th>WSPM</th>\n",
              "      <th>station</th>\n",
              "    </tr>\n",
              "  </thead>\n",
              "  <tbody>\n",
              "    <tr>\n",
              "      <th>0</th>\n",
              "      <td>1.420070e+09</td>\n",
              "      <td>13.0</td>\n",
              "      <td>50.0</td>\n",
              "      <td>19.0</td>\n",
              "      <td>29.0</td>\n",
              "      <td>500.0</td>\n",
              "      <td>28.0</td>\n",
              "      <td>-1.0</td>\n",
              "      <td>1027.0</td>\n",
              "      <td>-22.4</td>\n",
              "      <td>0.0</td>\n",
              "      <td>NNW</td>\n",
              "      <td>4.4</td>\n",
              "      <td>Aotizhongxin</td>\n",
              "    </tr>\n",
              "    <tr>\n",
              "      <th>1</th>\n",
              "      <td>1.420074e+09</td>\n",
              "      <td>11.0</td>\n",
              "      <td>30.0</td>\n",
              "      <td>15.0</td>\n",
              "      <td>31.0</td>\n",
              "      <td>600.0</td>\n",
              "      <td>27.0</td>\n",
              "      <td>-1.0</td>\n",
              "      <td>1027.0</td>\n",
              "      <td>-23.7</td>\n",
              "      <td>0.0</td>\n",
              "      <td>N</td>\n",
              "      <td>5.6</td>\n",
              "      <td>Aotizhongxin</td>\n",
              "    </tr>\n",
              "    <tr>\n",
              "      <th>2</th>\n",
              "      <td>1.420078e+09</td>\n",
              "      <td>13.0</td>\n",
              "      <td>33.0</td>\n",
              "      <td>16.0</td>\n",
              "      <td>32.0</td>\n",
              "      <td>600.0</td>\n",
              "      <td>26.0</td>\n",
              "      <td>-1.0</td>\n",
              "      <td>1028.0</td>\n",
              "      <td>-23.7</td>\n",
              "      <td>0.0</td>\n",
              "      <td>N</td>\n",
              "      <td>4.2</td>\n",
              "      <td>Aotizhongxin</td>\n",
              "    </tr>\n",
              "    <tr>\n",
              "      <th>3</th>\n",
              "      <td>1.420081e+09</td>\n",
              "      <td>10.0</td>\n",
              "      <td>29.0</td>\n",
              "      <td>10.0</td>\n",
              "      <td>25.0</td>\n",
              "      <td>500.0</td>\n",
              "      <td>31.0</td>\n",
              "      <td>-1.0</td>\n",
              "      <td>1029.0</td>\n",
              "      <td>-24.4</td>\n",
              "      <td>0.0</td>\n",
              "      <td>N</td>\n",
              "      <td>4.4</td>\n",
              "      <td>Aotizhongxin</td>\n",
              "    </tr>\n",
              "    <tr>\n",
              "      <th>4</th>\n",
              "      <td>1.420085e+09</td>\n",
              "      <td>12.0</td>\n",
              "      <td>25.0</td>\n",
              "      <td>14.0</td>\n",
              "      <td>33.0</td>\n",
              "      <td>700.0</td>\n",
              "      <td>24.0</td>\n",
              "      <td>-2.0</td>\n",
              "      <td>1027.0</td>\n",
              "      <td>-23.2</td>\n",
              "      <td>0.0</td>\n",
              "      <td>ENE</td>\n",
              "      <td>1.4</td>\n",
              "      <td>Aotizhongxin</td>\n",
              "    </tr>\n",
              "    <tr>\n",
              "      <th>...</th>\n",
              "      <td>...</td>\n",
              "      <td>...</td>\n",
              "      <td>...</td>\n",
              "      <td>...</td>\n",
              "      <td>...</td>\n",
              "      <td>...</td>\n",
              "      <td>...</td>\n",
              "      <td>...</td>\n",
              "      <td>...</td>\n",
              "      <td>...</td>\n",
              "      <td>...</td>\n",
              "      <td>...</td>\n",
              "      <td>...</td>\n",
              "      <td>...</td>\n",
              "    </tr>\n",
              "    <tr>\n",
              "      <th>18955</th>\n",
              "      <td>1.488308e+09</td>\n",
              "      <td>12.0</td>\n",
              "      <td>29.0</td>\n",
              "      <td>5.0</td>\n",
              "      <td>35.0</td>\n",
              "      <td>400.0</td>\n",
              "      <td>95.0</td>\n",
              "      <td>12.5</td>\n",
              "      <td>1013.5</td>\n",
              "      <td>-16.2</td>\n",
              "      <td>0.0</td>\n",
              "      <td>NW</td>\n",
              "      <td>2.4</td>\n",
              "      <td>Aotizhongxin</td>\n",
              "    </tr>\n",
              "    <tr>\n",
              "      <th>18956</th>\n",
              "      <td>1.488312e+09</td>\n",
              "      <td>13.0</td>\n",
              "      <td>37.0</td>\n",
              "      <td>7.0</td>\n",
              "      <td>45.0</td>\n",
              "      <td>500.0</td>\n",
              "      <td>81.0</td>\n",
              "      <td>11.6</td>\n",
              "      <td>1013.6</td>\n",
              "      <td>-15.1</td>\n",
              "      <td>0.0</td>\n",
              "      <td>WNW</td>\n",
              "      <td>0.9</td>\n",
              "      <td>Aotizhongxin</td>\n",
              "    </tr>\n",
              "    <tr>\n",
              "      <th>18957</th>\n",
              "      <td>1.488316e+09</td>\n",
              "      <td>16.0</td>\n",
              "      <td>37.0</td>\n",
              "      <td>10.0</td>\n",
              "      <td>66.0</td>\n",
              "      <td>700.0</td>\n",
              "      <td>58.0</td>\n",
              "      <td>10.8</td>\n",
              "      <td>1014.2</td>\n",
              "      <td>-13.3</td>\n",
              "      <td>0.0</td>\n",
              "      <td>NW</td>\n",
              "      <td>1.1</td>\n",
              "      <td>Aotizhongxin</td>\n",
              "    </tr>\n",
              "    <tr>\n",
              "      <th>18958</th>\n",
              "      <td>1.488319e+09</td>\n",
              "      <td>21.0</td>\n",
              "      <td>44.0</td>\n",
              "      <td>12.0</td>\n",
              "      <td>87.0</td>\n",
              "      <td>700.0</td>\n",
              "      <td>35.0</td>\n",
              "      <td>10.5</td>\n",
              "      <td>1014.4</td>\n",
              "      <td>-12.9</td>\n",
              "      <td>0.0</td>\n",
              "      <td>NNW</td>\n",
              "      <td>1.2</td>\n",
              "      <td>Aotizhongxin</td>\n",
              "    </tr>\n",
              "    <tr>\n",
              "      <th>18959</th>\n",
              "      <td>1.488323e+09</td>\n",
              "      <td>19.0</td>\n",
              "      <td>31.0</td>\n",
              "      <td>10.0</td>\n",
              "      <td>79.0</td>\n",
              "      <td>600.0</td>\n",
              "      <td>42.0</td>\n",
              "      <td>8.6</td>\n",
              "      <td>1014.1</td>\n",
              "      <td>-15.9</td>\n",
              "      <td>0.0</td>\n",
              "      <td>NNE</td>\n",
              "      <td>1.3</td>\n",
              "      <td>Aotizhongxin</td>\n",
              "    </tr>\n",
              "  </tbody>\n",
              "</table>\n",
              "<p>18960 rows × 14 columns</p>\n",
              "</div>"
            ],
            "text/plain": [
              "          unix_time  PM2.5  PM10   SO2  ...  RAIN   wd  WSPM       station\n",
              "0      1.420070e+09   13.0  50.0  19.0  ...   0.0  NNW   4.4  Aotizhongxin\n",
              "1      1.420074e+09   11.0  30.0  15.0  ...   0.0    N   5.6  Aotizhongxin\n",
              "2      1.420078e+09   13.0  33.0  16.0  ...   0.0    N   4.2  Aotizhongxin\n",
              "3      1.420081e+09   10.0  29.0  10.0  ...   0.0    N   4.4  Aotizhongxin\n",
              "4      1.420085e+09   12.0  25.0  14.0  ...   0.0  ENE   1.4  Aotizhongxin\n",
              "...             ...    ...   ...   ...  ...   ...  ...   ...           ...\n",
              "18955  1.488308e+09   12.0  29.0   5.0  ...   0.0   NW   2.4  Aotizhongxin\n",
              "18956  1.488312e+09   13.0  37.0   7.0  ...   0.0  WNW   0.9  Aotizhongxin\n",
              "18957  1.488316e+09   16.0  37.0  10.0  ...   0.0   NW   1.1  Aotizhongxin\n",
              "18958  1.488319e+09   21.0  44.0  12.0  ...   0.0  NNW   1.2  Aotizhongxin\n",
              "18959  1.488323e+09   19.0  31.0  10.0  ...   0.0  NNE   1.3  Aotizhongxin\n",
              "\n",
              "[18960 rows x 14 columns]"
            ]
          },
          "metadata": {
            "tags": []
          },
          "execution_count": 16
        }
      ]
    },
    {
      "cell_type": "markdown",
      "metadata": {
        "id": "RL3jSHaAOqLE"
      },
      "source": [
        "## (Beijing) Drop some of useless columns"
      ]
    },
    {
      "cell_type": "code",
      "metadata": {
        "id": "LFV2tD1JOni_",
        "colab": {
          "base_uri": "https://localhost:8080/",
          "height": 419
        },
        "outputId": "b6ea9d2f-704f-49a5-9ec6-6dae469cc962"
      },
      "source": [
        "china_df = china_df.drop(['SO2', 'NO2', 'CO', 'O3', 'TEMP', 'PRES', 'DEWP', 'RAIN', 'station'], axis=1)\n",
        "china_df"
      ],
      "execution_count": null,
      "outputs": [
        {
          "output_type": "execute_result",
          "data": {
            "text/html": [
              "<div>\n",
              "<style scoped>\n",
              "    .dataframe tbody tr th:only-of-type {\n",
              "        vertical-align: middle;\n",
              "    }\n",
              "\n",
              "    .dataframe tbody tr th {\n",
              "        vertical-align: top;\n",
              "    }\n",
              "\n",
              "    .dataframe thead th {\n",
              "        text-align: right;\n",
              "    }\n",
              "</style>\n",
              "<table border=\"1\" class=\"dataframe\">\n",
              "  <thead>\n",
              "    <tr style=\"text-align: right;\">\n",
              "      <th></th>\n",
              "      <th>unix_time</th>\n",
              "      <th>PM2.5</th>\n",
              "      <th>PM10</th>\n",
              "      <th>wd</th>\n",
              "      <th>WSPM</th>\n",
              "    </tr>\n",
              "  </thead>\n",
              "  <tbody>\n",
              "    <tr>\n",
              "      <th>0</th>\n",
              "      <td>1.420070e+09</td>\n",
              "      <td>13.0</td>\n",
              "      <td>50.0</td>\n",
              "      <td>NNW</td>\n",
              "      <td>4.4</td>\n",
              "    </tr>\n",
              "    <tr>\n",
              "      <th>1</th>\n",
              "      <td>1.420074e+09</td>\n",
              "      <td>11.0</td>\n",
              "      <td>30.0</td>\n",
              "      <td>N</td>\n",
              "      <td>5.6</td>\n",
              "    </tr>\n",
              "    <tr>\n",
              "      <th>2</th>\n",
              "      <td>1.420078e+09</td>\n",
              "      <td>13.0</td>\n",
              "      <td>33.0</td>\n",
              "      <td>N</td>\n",
              "      <td>4.2</td>\n",
              "    </tr>\n",
              "    <tr>\n",
              "      <th>3</th>\n",
              "      <td>1.420081e+09</td>\n",
              "      <td>10.0</td>\n",
              "      <td>29.0</td>\n",
              "      <td>N</td>\n",
              "      <td>4.4</td>\n",
              "    </tr>\n",
              "    <tr>\n",
              "      <th>4</th>\n",
              "      <td>1.420085e+09</td>\n",
              "      <td>12.0</td>\n",
              "      <td>25.0</td>\n",
              "      <td>ENE</td>\n",
              "      <td>1.4</td>\n",
              "    </tr>\n",
              "    <tr>\n",
              "      <th>...</th>\n",
              "      <td>...</td>\n",
              "      <td>...</td>\n",
              "      <td>...</td>\n",
              "      <td>...</td>\n",
              "      <td>...</td>\n",
              "    </tr>\n",
              "    <tr>\n",
              "      <th>18955</th>\n",
              "      <td>1.488308e+09</td>\n",
              "      <td>12.0</td>\n",
              "      <td>29.0</td>\n",
              "      <td>NW</td>\n",
              "      <td>2.4</td>\n",
              "    </tr>\n",
              "    <tr>\n",
              "      <th>18956</th>\n",
              "      <td>1.488312e+09</td>\n",
              "      <td>13.0</td>\n",
              "      <td>37.0</td>\n",
              "      <td>WNW</td>\n",
              "      <td>0.9</td>\n",
              "    </tr>\n",
              "    <tr>\n",
              "      <th>18957</th>\n",
              "      <td>1.488316e+09</td>\n",
              "      <td>16.0</td>\n",
              "      <td>37.0</td>\n",
              "      <td>NW</td>\n",
              "      <td>1.1</td>\n",
              "    </tr>\n",
              "    <tr>\n",
              "      <th>18958</th>\n",
              "      <td>1.488319e+09</td>\n",
              "      <td>21.0</td>\n",
              "      <td>44.0</td>\n",
              "      <td>NNW</td>\n",
              "      <td>1.2</td>\n",
              "    </tr>\n",
              "    <tr>\n",
              "      <th>18959</th>\n",
              "      <td>1.488323e+09</td>\n",
              "      <td>19.0</td>\n",
              "      <td>31.0</td>\n",
              "      <td>NNE</td>\n",
              "      <td>1.3</td>\n",
              "    </tr>\n",
              "  </tbody>\n",
              "</table>\n",
              "<p>18960 rows × 5 columns</p>\n",
              "</div>"
            ],
            "text/plain": [
              "          unix_time  PM2.5  PM10   wd  WSPM\n",
              "0      1.420070e+09   13.0  50.0  NNW   4.4\n",
              "1      1.420074e+09   11.0  30.0    N   5.6\n",
              "2      1.420078e+09   13.0  33.0    N   4.2\n",
              "3      1.420081e+09   10.0  29.0    N   4.4\n",
              "4      1.420085e+09   12.0  25.0  ENE   1.4\n",
              "...             ...    ...   ...  ...   ...\n",
              "18955  1.488308e+09   12.0  29.0   NW   2.4\n",
              "18956  1.488312e+09   13.0  37.0  WNW   0.9\n",
              "18957  1.488316e+09   16.0  37.0   NW   1.1\n",
              "18958  1.488319e+09   21.0  44.0  NNW   1.2\n",
              "18959  1.488323e+09   19.0  31.0  NNE   1.3\n",
              "\n",
              "[18960 rows x 5 columns]"
            ]
          },
          "metadata": {
            "tags": []
          },
          "execution_count": 17
        }
      ]
    },
    {
      "cell_type": "markdown",
      "metadata": {
        "id": "ykGml31MPMOX"
      },
      "source": [
        "## (Beijing) Remove Null Values"
      ]
    },
    {
      "cell_type": "code",
      "metadata": {
        "id": "gMJpRCrsPSM9",
        "colab": {
          "base_uri": "https://localhost:8080/"
        },
        "outputId": "6b4537b4-05bf-4394-cc10-4ca248a7b95c"
      },
      "source": [
        "china_df.isnull().sum()"
      ],
      "execution_count": null,
      "outputs": [
        {
          "output_type": "execute_result",
          "data": {
            "text/plain": [
              "unix_time      0\n",
              "PM2.5        409\n",
              "PM10         226\n",
              "wd            78\n",
              "WSPM          14\n",
              "dtype: int64"
            ]
          },
          "metadata": {
            "tags": []
          },
          "execution_count": 18
        }
      ]
    },
    {
      "cell_type": "code",
      "metadata": {
        "id": "dnYPRYkTPW7u",
        "colab": {
          "base_uri": "https://localhost:8080/"
        },
        "outputId": "ca2261d6-5383-42d0-f457-48b54acebe71"
      },
      "source": [
        "china_df = china_df.dropna()\n",
        "china_df.reset_index()\n",
        "china_df.isnull().sum()"
      ],
      "execution_count": null,
      "outputs": [
        {
          "output_type": "execute_result",
          "data": {
            "text/plain": [
              "unix_time    0\n",
              "PM2.5        0\n",
              "PM10         0\n",
              "wd           0\n",
              "WSPM         0\n",
              "dtype: int64"
            ]
          },
          "metadata": {
            "tags": []
          },
          "execution_count": 19
        }
      ]
    },
    {
      "cell_type": "markdown",
      "metadata": {
        "id": "N06Vixi9ESJI"
      },
      "source": [
        "## (Beijing) Categorize wind direction"
      ]
    },
    {
      "cell_type": "code",
      "metadata": {
        "id": "iJrpaTOWFe9J",
        "colab": {
          "base_uri": "https://localhost:8080/",
          "height": 419
        },
        "outputId": "49e838bd-2199-4f76-a698-dd079a8f990f"
      },
      "source": [
        "from sklearn.preprocessing import StandardScaler\n",
        "from sklearn.preprocessing import LabelEncoder\n",
        "\n",
        "encoder = LabelEncoder()\n",
        "wd_beijing = encoder.fit_transform(china_df['wd'])\n",
        "wd_beijing = pd.Series(wd_beijing.tolist(), name='wd')\n",
        "china_df = china_df.reset_index()\n",
        "\n",
        "china_df = china_df.drop('wd', axis=1)\n",
        "china_df = pd.concat([china_df, wd_beijing], axis=1)\n",
        "china_df"
      ],
      "execution_count": null,
      "outputs": [
        {
          "output_type": "execute_result",
          "data": {
            "text/html": [
              "<div>\n",
              "<style scoped>\n",
              "    .dataframe tbody tr th:only-of-type {\n",
              "        vertical-align: middle;\n",
              "    }\n",
              "\n",
              "    .dataframe tbody tr th {\n",
              "        vertical-align: top;\n",
              "    }\n",
              "\n",
              "    .dataframe thead th {\n",
              "        text-align: right;\n",
              "    }\n",
              "</style>\n",
              "<table border=\"1\" class=\"dataframe\">\n",
              "  <thead>\n",
              "    <tr style=\"text-align: right;\">\n",
              "      <th></th>\n",
              "      <th>index</th>\n",
              "      <th>unix_time</th>\n",
              "      <th>PM2.5</th>\n",
              "      <th>PM10</th>\n",
              "      <th>WSPM</th>\n",
              "      <th>wd</th>\n",
              "    </tr>\n",
              "  </thead>\n",
              "  <tbody>\n",
              "    <tr>\n",
              "      <th>0</th>\n",
              "      <td>0</td>\n",
              "      <td>1.420070e+09</td>\n",
              "      <td>13.0</td>\n",
              "      <td>50.0</td>\n",
              "      <td>4.4</td>\n",
              "      <td>6</td>\n",
              "    </tr>\n",
              "    <tr>\n",
              "      <th>1</th>\n",
              "      <td>1</td>\n",
              "      <td>1.420074e+09</td>\n",
              "      <td>11.0</td>\n",
              "      <td>30.0</td>\n",
              "      <td>5.6</td>\n",
              "      <td>3</td>\n",
              "    </tr>\n",
              "    <tr>\n",
              "      <th>2</th>\n",
              "      <td>2</td>\n",
              "      <td>1.420078e+09</td>\n",
              "      <td>13.0</td>\n",
              "      <td>33.0</td>\n",
              "      <td>4.2</td>\n",
              "      <td>3</td>\n",
              "    </tr>\n",
              "    <tr>\n",
              "      <th>3</th>\n",
              "      <td>3</td>\n",
              "      <td>1.420081e+09</td>\n",
              "      <td>10.0</td>\n",
              "      <td>29.0</td>\n",
              "      <td>4.4</td>\n",
              "      <td>3</td>\n",
              "    </tr>\n",
              "    <tr>\n",
              "      <th>4</th>\n",
              "      <td>4</td>\n",
              "      <td>1.420085e+09</td>\n",
              "      <td>12.0</td>\n",
              "      <td>25.0</td>\n",
              "      <td>1.4</td>\n",
              "      <td>1</td>\n",
              "    </tr>\n",
              "    <tr>\n",
              "      <th>...</th>\n",
              "      <td>...</td>\n",
              "      <td>...</td>\n",
              "      <td>...</td>\n",
              "      <td>...</td>\n",
              "      <td>...</td>\n",
              "      <td>...</td>\n",
              "    </tr>\n",
              "    <tr>\n",
              "      <th>18464</th>\n",
              "      <td>18955</td>\n",
              "      <td>1.488308e+09</td>\n",
              "      <td>12.0</td>\n",
              "      <td>29.0</td>\n",
              "      <td>2.4</td>\n",
              "      <td>7</td>\n",
              "    </tr>\n",
              "    <tr>\n",
              "      <th>18465</th>\n",
              "      <td>18956</td>\n",
              "      <td>1.488312e+09</td>\n",
              "      <td>13.0</td>\n",
              "      <td>37.0</td>\n",
              "      <td>0.9</td>\n",
              "      <td>14</td>\n",
              "    </tr>\n",
              "    <tr>\n",
              "      <th>18466</th>\n",
              "      <td>18957</td>\n",
              "      <td>1.488316e+09</td>\n",
              "      <td>16.0</td>\n",
              "      <td>37.0</td>\n",
              "      <td>1.1</td>\n",
              "      <td>7</td>\n",
              "    </tr>\n",
              "    <tr>\n",
              "      <th>18467</th>\n",
              "      <td>18958</td>\n",
              "      <td>1.488319e+09</td>\n",
              "      <td>21.0</td>\n",
              "      <td>44.0</td>\n",
              "      <td>1.2</td>\n",
              "      <td>6</td>\n",
              "    </tr>\n",
              "    <tr>\n",
              "      <th>18468</th>\n",
              "      <td>18959</td>\n",
              "      <td>1.488323e+09</td>\n",
              "      <td>19.0</td>\n",
              "      <td>31.0</td>\n",
              "      <td>1.3</td>\n",
              "      <td>5</td>\n",
              "    </tr>\n",
              "  </tbody>\n",
              "</table>\n",
              "<p>18469 rows × 6 columns</p>\n",
              "</div>"
            ],
            "text/plain": [
              "       index     unix_time  PM2.5  PM10  WSPM  wd\n",
              "0          0  1.420070e+09   13.0  50.0   4.4   6\n",
              "1          1  1.420074e+09   11.0  30.0   5.6   3\n",
              "2          2  1.420078e+09   13.0  33.0   4.2   3\n",
              "3          3  1.420081e+09   10.0  29.0   4.4   3\n",
              "4          4  1.420085e+09   12.0  25.0   1.4   1\n",
              "...      ...           ...    ...   ...   ...  ..\n",
              "18464  18955  1.488308e+09   12.0  29.0   2.4   7\n",
              "18465  18956  1.488312e+09   13.0  37.0   0.9  14\n",
              "18466  18957  1.488316e+09   16.0  37.0   1.1   7\n",
              "18467  18958  1.488319e+09   21.0  44.0   1.2   6\n",
              "18468  18959  1.488323e+09   19.0  31.0   1.3   5\n",
              "\n",
              "[18469 rows x 6 columns]"
            ]
          },
          "metadata": {
            "tags": []
          },
          "execution_count": 20
        }
      ]
    },
    {
      "cell_type": "markdown",
      "metadata": {
        "id": "_DmOQ3IDyYGW"
      },
      "source": [
        "## Date alignment"
      ]
    },
    {
      "cell_type": "code",
      "metadata": {
        "id": "uJxx3VoY4J8i",
        "colab": {
          "base_uri": "https://localhost:8080/",
          "height": 419
        },
        "outputId": "667af2ab-234c-4b9a-bc87-04966471c3f0"
      },
      "source": [
        "china_df_copy = china_df.copy()\n",
        "china_df_copy['unix_time'] = china_df_copy['unix_time']+86400\n",
        "seoul_15_16_df['unix_time'] = seoul_15_16_df['unix_time']\n",
        "\n",
        "\n",
        "china_df_copy = china_df_copy.drop('index', axis=1)\n",
        "china_df_copy.columns = ['unix_time', 'PM2.5_ch', 'PM10_ch', 'WSPM_ch', 'wd_ch']\n",
        "china_df_copy"
      ],
      "execution_count": null,
      "outputs": [
        {
          "output_type": "execute_result",
          "data": {
            "text/html": [
              "<div>\n",
              "<style scoped>\n",
              "    .dataframe tbody tr th:only-of-type {\n",
              "        vertical-align: middle;\n",
              "    }\n",
              "\n",
              "    .dataframe tbody tr th {\n",
              "        vertical-align: top;\n",
              "    }\n",
              "\n",
              "    .dataframe thead th {\n",
              "        text-align: right;\n",
              "    }\n",
              "</style>\n",
              "<table border=\"1\" class=\"dataframe\">\n",
              "  <thead>\n",
              "    <tr style=\"text-align: right;\">\n",
              "      <th></th>\n",
              "      <th>unix_time</th>\n",
              "      <th>PM2.5_ch</th>\n",
              "      <th>PM10_ch</th>\n",
              "      <th>WSPM_ch</th>\n",
              "      <th>wd_ch</th>\n",
              "    </tr>\n",
              "  </thead>\n",
              "  <tbody>\n",
              "    <tr>\n",
              "      <th>0</th>\n",
              "      <td>1.420157e+09</td>\n",
              "      <td>13.0</td>\n",
              "      <td>50.0</td>\n",
              "      <td>4.4</td>\n",
              "      <td>6</td>\n",
              "    </tr>\n",
              "    <tr>\n",
              "      <th>1</th>\n",
              "      <td>1.420160e+09</td>\n",
              "      <td>11.0</td>\n",
              "      <td>30.0</td>\n",
              "      <td>5.6</td>\n",
              "      <td>3</td>\n",
              "    </tr>\n",
              "    <tr>\n",
              "      <th>2</th>\n",
              "      <td>1.420164e+09</td>\n",
              "      <td>13.0</td>\n",
              "      <td>33.0</td>\n",
              "      <td>4.2</td>\n",
              "      <td>3</td>\n",
              "    </tr>\n",
              "    <tr>\n",
              "      <th>3</th>\n",
              "      <td>1.420168e+09</td>\n",
              "      <td>10.0</td>\n",
              "      <td>29.0</td>\n",
              "      <td>4.4</td>\n",
              "      <td>3</td>\n",
              "    </tr>\n",
              "    <tr>\n",
              "      <th>4</th>\n",
              "      <td>1.420171e+09</td>\n",
              "      <td>12.0</td>\n",
              "      <td>25.0</td>\n",
              "      <td>1.4</td>\n",
              "      <td>1</td>\n",
              "    </tr>\n",
              "    <tr>\n",
              "      <th>...</th>\n",
              "      <td>...</td>\n",
              "      <td>...</td>\n",
              "      <td>...</td>\n",
              "      <td>...</td>\n",
              "      <td>...</td>\n",
              "    </tr>\n",
              "    <tr>\n",
              "      <th>18464</th>\n",
              "      <td>1.488395e+09</td>\n",
              "      <td>12.0</td>\n",
              "      <td>29.0</td>\n",
              "      <td>2.4</td>\n",
              "      <td>7</td>\n",
              "    </tr>\n",
              "    <tr>\n",
              "      <th>18465</th>\n",
              "      <td>1.488398e+09</td>\n",
              "      <td>13.0</td>\n",
              "      <td>37.0</td>\n",
              "      <td>0.9</td>\n",
              "      <td>14</td>\n",
              "    </tr>\n",
              "    <tr>\n",
              "      <th>18466</th>\n",
              "      <td>1.488402e+09</td>\n",
              "      <td>16.0</td>\n",
              "      <td>37.0</td>\n",
              "      <td>1.1</td>\n",
              "      <td>7</td>\n",
              "    </tr>\n",
              "    <tr>\n",
              "      <th>18467</th>\n",
              "      <td>1.488406e+09</td>\n",
              "      <td>21.0</td>\n",
              "      <td>44.0</td>\n",
              "      <td>1.2</td>\n",
              "      <td>6</td>\n",
              "    </tr>\n",
              "    <tr>\n",
              "      <th>18468</th>\n",
              "      <td>1.488409e+09</td>\n",
              "      <td>19.0</td>\n",
              "      <td>31.0</td>\n",
              "      <td>1.3</td>\n",
              "      <td>5</td>\n",
              "    </tr>\n",
              "  </tbody>\n",
              "</table>\n",
              "<p>18469 rows × 5 columns</p>\n",
              "</div>"
            ],
            "text/plain": [
              "          unix_time  PM2.5_ch  PM10_ch  WSPM_ch  wd_ch\n",
              "0      1.420157e+09      13.0     50.0      4.4      6\n",
              "1      1.420160e+09      11.0     30.0      5.6      3\n",
              "2      1.420164e+09      13.0     33.0      4.2      3\n",
              "3      1.420168e+09      10.0     29.0      4.4      3\n",
              "4      1.420171e+09      12.0     25.0      1.4      1\n",
              "...             ...       ...      ...      ...    ...\n",
              "18464  1.488395e+09      12.0     29.0      2.4      7\n",
              "18465  1.488398e+09      13.0     37.0      0.9     14\n",
              "18466  1.488402e+09      16.0     37.0      1.1      7\n",
              "18467  1.488406e+09      21.0     44.0      1.2      6\n",
              "18468  1.488409e+09      19.0     31.0      1.3      5\n",
              "\n",
              "[18469 rows x 5 columns]"
            ]
          },
          "metadata": {
            "tags": []
          },
          "execution_count": 21
        }
      ]
    },
    {
      "cell_type": "markdown",
      "metadata": {
        "id": "ed9lacJd4WVG"
      },
      "source": [
        "## Merge dataframes"
      ]
    },
    {
      "cell_type": "code",
      "metadata": {
        "id": "vr6KNfQr4Yje",
        "colab": {
          "base_uri": "https://localhost:8080/",
          "height": 439
        },
        "outputId": "85b36463-6ad3-42d6-e23c-a4e65aa41999"
      },
      "source": [
        "df = pd.merge(seoul_15_16_df, china_df_copy, on='unix_time')\n",
        "df = pd.merge(df, baek_15_16_df, on='unix_time')\n",
        "df"
      ],
      "execution_count": null,
      "outputs": [
        {
          "output_type": "execute_result",
          "data": {
            "text/html": [
              "<div>\n",
              "<style scoped>\n",
              "    .dataframe tbody tr th:only-of-type {\n",
              "        vertical-align: middle;\n",
              "    }\n",
              "\n",
              "    .dataframe tbody tr th {\n",
              "        vertical-align: top;\n",
              "    }\n",
              "\n",
              "    .dataframe thead th {\n",
              "        text-align: right;\n",
              "    }\n",
              "</style>\n",
              "<table border=\"1\" class=\"dataframe\">\n",
              "  <thead>\n",
              "    <tr style=\"text-align: right;\">\n",
              "      <th></th>\n",
              "      <th>unix_time</th>\n",
              "      <th>PM10_seoul</th>\n",
              "      <th>PM2.5_seoul</th>\n",
              "      <th>WS_seoul</th>\n",
              "      <th>WD_seoul</th>\n",
              "      <th>PM2.5_ch</th>\n",
              "      <th>PM10_ch</th>\n",
              "      <th>WSPM_ch</th>\n",
              "      <th>wd_ch</th>\n",
              "      <th>PM10_baek</th>\n",
              "      <th>PM2.5_baek</th>\n",
              "      <th>WS_baek</th>\n",
              "      <th>WD_baek</th>\n",
              "    </tr>\n",
              "  </thead>\n",
              "  <tbody>\n",
              "    <tr>\n",
              "      <th>0</th>\n",
              "      <td>1.420157e+09</td>\n",
              "      <td>21.0</td>\n",
              "      <td>9.0</td>\n",
              "      <td>2.4</td>\n",
              "      <td>13</td>\n",
              "      <td>13.0</td>\n",
              "      <td>50.0</td>\n",
              "      <td>4.4</td>\n",
              "      <td>6</td>\n",
              "      <td>16.0</td>\n",
              "      <td>6.0</td>\n",
              "      <td>7.0</td>\n",
              "      <td>14</td>\n",
              "    </tr>\n",
              "    <tr>\n",
              "      <th>1</th>\n",
              "      <td>1.420157e+09</td>\n",
              "      <td>21.0</td>\n",
              "      <td>9.0</td>\n",
              "      <td>2.4</td>\n",
              "      <td>13</td>\n",
              "      <td>13.0</td>\n",
              "      <td>50.0</td>\n",
              "      <td>4.4</td>\n",
              "      <td>6</td>\n",
              "      <td>16.0</td>\n",
              "      <td>6.0</td>\n",
              "      <td>7.0</td>\n",
              "      <td>14</td>\n",
              "    </tr>\n",
              "    <tr>\n",
              "      <th>2</th>\n",
              "      <td>1.420160e+09</td>\n",
              "      <td>25.0</td>\n",
              "      <td>9.0</td>\n",
              "      <td>1.1</td>\n",
              "      <td>6</td>\n",
              "      <td>11.0</td>\n",
              "      <td>30.0</td>\n",
              "      <td>5.6</td>\n",
              "      <td>3</td>\n",
              "      <td>16.0</td>\n",
              "      <td>6.0</td>\n",
              "      <td>8.4</td>\n",
              "      <td>14</td>\n",
              "    </tr>\n",
              "    <tr>\n",
              "      <th>3</th>\n",
              "      <td>1.420160e+09</td>\n",
              "      <td>25.0</td>\n",
              "      <td>9.0</td>\n",
              "      <td>1.1</td>\n",
              "      <td>6</td>\n",
              "      <td>11.0</td>\n",
              "      <td>30.0</td>\n",
              "      <td>5.6</td>\n",
              "      <td>3</td>\n",
              "      <td>16.0</td>\n",
              "      <td>6.0</td>\n",
              "      <td>8.4</td>\n",
              "      <td>14</td>\n",
              "    </tr>\n",
              "    <tr>\n",
              "      <th>4</th>\n",
              "      <td>1.420164e+09</td>\n",
              "      <td>24.0</td>\n",
              "      <td>9.0</td>\n",
              "      <td>1.8</td>\n",
              "      <td>13</td>\n",
              "      <td>13.0</td>\n",
              "      <td>33.0</td>\n",
              "      <td>4.2</td>\n",
              "      <td>3</td>\n",
              "      <td>13.0</td>\n",
              "      <td>4.0</td>\n",
              "      <td>9.1</td>\n",
              "      <td>14</td>\n",
              "    </tr>\n",
              "    <tr>\n",
              "      <th>...</th>\n",
              "      <td>...</td>\n",
              "      <td>...</td>\n",
              "      <td>...</td>\n",
              "      <td>...</td>\n",
              "      <td>...</td>\n",
              "      <td>...</td>\n",
              "      <td>...</td>\n",
              "      <td>...</td>\n",
              "      <td>...</td>\n",
              "      <td>...</td>\n",
              "      <td>...</td>\n",
              "      <td>...</td>\n",
              "      <td>...</td>\n",
              "    </tr>\n",
              "    <tr>\n",
              "      <th>14717</th>\n",
              "      <td>1.451596e+09</td>\n",
              "      <td>84.0</td>\n",
              "      <td>49.0</td>\n",
              "      <td>1.2</td>\n",
              "      <td>4</td>\n",
              "      <td>14.0</td>\n",
              "      <td>14.0</td>\n",
              "      <td>2.2</td>\n",
              "      <td>1</td>\n",
              "      <td>35.0</td>\n",
              "      <td>25.0</td>\n",
              "      <td>3.8</td>\n",
              "      <td>14</td>\n",
              "    </tr>\n",
              "    <tr>\n",
              "      <th>14718</th>\n",
              "      <td>1.451599e+09</td>\n",
              "      <td>97.0</td>\n",
              "      <td>52.0</td>\n",
              "      <td>1.1</td>\n",
              "      <td>4</td>\n",
              "      <td>17.0</td>\n",
              "      <td>17.0</td>\n",
              "      <td>1.3</td>\n",
              "      <td>4</td>\n",
              "      <td>27.0</td>\n",
              "      <td>21.0</td>\n",
              "      <td>3.7</td>\n",
              "      <td>14</td>\n",
              "    </tr>\n",
              "    <tr>\n",
              "      <th>14719</th>\n",
              "      <td>1.451599e+09</td>\n",
              "      <td>97.0</td>\n",
              "      <td>52.0</td>\n",
              "      <td>1.1</td>\n",
              "      <td>4</td>\n",
              "      <td>17.0</td>\n",
              "      <td>17.0</td>\n",
              "      <td>1.3</td>\n",
              "      <td>4</td>\n",
              "      <td>27.0</td>\n",
              "      <td>21.0</td>\n",
              "      <td>3.7</td>\n",
              "      <td>14</td>\n",
              "    </tr>\n",
              "    <tr>\n",
              "      <th>14720</th>\n",
              "      <td>1.451603e+09</td>\n",
              "      <td>93.0</td>\n",
              "      <td>48.0</td>\n",
              "      <td>0.8</td>\n",
              "      <td>4</td>\n",
              "      <td>22.0</td>\n",
              "      <td>22.0</td>\n",
              "      <td>1.5</td>\n",
              "      <td>3</td>\n",
              "      <td>33.0</td>\n",
              "      <td>18.0</td>\n",
              "      <td>3.4</td>\n",
              "      <td>13</td>\n",
              "    </tr>\n",
              "    <tr>\n",
              "      <th>14721</th>\n",
              "      <td>1.451603e+09</td>\n",
              "      <td>93.0</td>\n",
              "      <td>48.0</td>\n",
              "      <td>0.8</td>\n",
              "      <td>4</td>\n",
              "      <td>22.0</td>\n",
              "      <td>22.0</td>\n",
              "      <td>1.5</td>\n",
              "      <td>3</td>\n",
              "      <td>33.0</td>\n",
              "      <td>18.0</td>\n",
              "      <td>3.4</td>\n",
              "      <td>13</td>\n",
              "    </tr>\n",
              "  </tbody>\n",
              "</table>\n",
              "<p>14722 rows × 13 columns</p>\n",
              "</div>"
            ],
            "text/plain": [
              "          unix_time  PM10_seoul  PM2.5_seoul  ...  PM2.5_baek  WS_baek  WD_baek\n",
              "0      1.420157e+09        21.0          9.0  ...         6.0      7.0       14\n",
              "1      1.420157e+09        21.0          9.0  ...         6.0      7.0       14\n",
              "2      1.420160e+09        25.0          9.0  ...         6.0      8.4       14\n",
              "3      1.420160e+09        25.0          9.0  ...         6.0      8.4       14\n",
              "4      1.420164e+09        24.0          9.0  ...         4.0      9.1       14\n",
              "...             ...         ...          ...  ...         ...      ...      ...\n",
              "14717  1.451596e+09        84.0         49.0  ...        25.0      3.8       14\n",
              "14718  1.451599e+09        97.0         52.0  ...        21.0      3.7       14\n",
              "14719  1.451599e+09        97.0         52.0  ...        21.0      3.7       14\n",
              "14720  1.451603e+09        93.0         48.0  ...        18.0      3.4       13\n",
              "14721  1.451603e+09        93.0         48.0  ...        18.0      3.4       13\n",
              "\n",
              "[14722 rows x 13 columns]"
            ]
          },
          "metadata": {
            "tags": []
          },
          "execution_count": 22
        }
      ]
    },
    {
      "cell_type": "markdown",
      "metadata": {
        "id": "RUBq_UGVXWFQ"
      },
      "source": [
        "## remove anomaly data(삭제 할 것 같음)"
      ]
    },
    {
      "cell_type": "code",
      "metadata": {
        "id": "a6mBN4m3XELS"
      },
      "source": [
        "# df.loc[:, 'PM10_baek':].boxplot()"
      ],
      "execution_count": null,
      "outputs": []
    },
    {
      "cell_type": "code",
      "metadata": {
        "id": "0jkJLA1WXY3S"
      },
      "source": [
        "# def outliers_iqr(data):\n",
        "#   q1, q3 = np.percentile(data, [25,75])\n",
        "#   iqr = q3 - q1\n",
        "#   lower_bound = q1 - (iqr * 1.5)\n",
        "#   upper_bound = q3 + (iqr * 1.5)\n",
        "\n",
        "#   return np.where((data > upper_bound) | (data < lower_bound))\n",
        "\n",
        "# pm10_index = outliers_iqr(df['PM10(㎍/㎥)'])[0]\n",
        "# df = df.drop(pm10_index, axis=0)\n",
        "# df = df.reset_index().drop('index', axis=1)\n",
        "\n",
        "# pm25_index = outliers_iqr(df['PM2.5(㎍/㎥)'])[0]\n",
        "# df.loc[pm25_index, 'PM2.5(㎍/㎥)']\n",
        "# df = df.drop(pm25_index, axis=0)\n",
        "# df = df.reset_index().drop('index', axis=1)\n",
        "\n",
        "# pm10_index_ch = outliers_iqr(df['PM10_ch'])[0]\n",
        "# df.loc[pm10_index_ch, 'PM10_ch']\n",
        "# df = df.drop(pm10_index_ch, axis=0)\n",
        "# df = df.reset_index().drop('index', axis=1)\n",
        "\n",
        "# pm25_index_ch = outliers_iqr(df['PM2.5_ch'])[0]\n",
        "# df.loc[pm25_index_ch, 'PM2.5_ch']\n",
        "# df = df.drop(pm25_index_ch, axis=0)\n",
        "# df = df.reset_index().drop('index', axis=1)"
      ],
      "execution_count": null,
      "outputs": []
    },
    {
      "cell_type": "code",
      "metadata": {
        "id": "bC1pLhZGXcSX"
      },
      "source": [
        "# df.loc[:, 'PM10(㎍/㎥)':].boxplot()"
      ],
      "execution_count": null,
      "outputs": []
    },
    {
      "cell_type": "code",
      "metadata": {
        "id": "SOaIvrx4Cw0r",
        "colab": {
          "base_uri": "https://localhost:8080/"
        },
        "outputId": "5bba5d91-198a-476e-9720-69521ed3a50e"
      },
      "source": [
        "df.isnull().sum()"
      ],
      "execution_count": null,
      "outputs": [
        {
          "output_type": "execute_result",
          "data": {
            "text/plain": [
              "unix_time      0\n",
              "PM10_seoul     0\n",
              "PM2.5_seoul    0\n",
              "WS_seoul       0\n",
              "WD_seoul       0\n",
              "PM2.5_ch       0\n",
              "PM10_ch        0\n",
              "WSPM_ch        0\n",
              "wd_ch          0\n",
              "PM10_baek      0\n",
              "PM2.5_baek     0\n",
              "WS_baek        0\n",
              "WD_baek        0\n",
              "dtype: int64"
            ]
          },
          "metadata": {
            "tags": []
          },
          "execution_count": 23
        }
      ]
    },
    {
      "cell_type": "markdown",
      "metadata": {
        "id": "hr79GflN5uBD"
      },
      "source": [
        "# Model - 1 (PM10)"
      ]
    },
    {
      "cell_type": "markdown",
      "metadata": {
        "id": "nB5ZXokBOcdQ"
      },
      "source": [
        "## Time Scailing & PM10 PM2.5 log scaling"
      ]
    },
    {
      "cell_type": "code",
      "metadata": {
        "id": "IwYirKwDgK2V"
      },
      "source": [
        "time_sr = df['unix_time'] / 10**9\n",
        "time_sr = time_sr.rename('unix_time')\n",
        "pm10_sr_seoul = df['PM10_seoul']\n",
        "pm10_sr_seoul = np.log10(pm10_sr_seoul)\n",
        "pm10_sr_seoul = pm10_sr_seoul.rename('PM10_seoul')\n",
        "pm25_sr_seoul = df['PM2.5_seoul']\n",
        "pm25_sr_seoul = np.log10(pm25_sr_seoul)\n",
        "pm25_sr_seoul = pm25_sr_seoul.rename('PM2.5_seoul')"
      ],
      "execution_count": null,
      "outputs": []
    },
    {
      "cell_type": "code",
      "metadata": {
        "id": "Ci6V5YfCOfcE",
        "colab": {
          "base_uri": "https://localhost:8080/",
          "height": 439
        },
        "outputId": "48465258-934f-4075-bbc8-d75570b3809f"
      },
      "source": [
        "# 스케일링\n",
        "from sklearn.preprocessing import StandardScaler\n",
        "\n",
        "scaler = StandardScaler()\n",
        "title = ['unix_time',\t'PM10_seoul', 'PM2.5_seoul', 'WS_seoul', 'WD_seoul', 'PM2.5_ch', 'PM10_ch', 'WSPM_ch', 'wd_ch','PM10_baek', 'PM2.5_baek', 'WS_baek', 'WD_baek',]\n",
        "scaled_df = scaler.fit_transform(df)\n",
        "scaled_df = pd.DataFrame(scaled_df, columns=title)\n",
        "\n",
        "scaled_df['unix_time'] = time_sr\n",
        "scaled_df['PM10_seoul'] = pm10_sr_seoul\n",
        "scaled_df['PM2.5_seoul'] = pm25_sr_seoul\n",
        "\n",
        "scaled_df"
      ],
      "execution_count": null,
      "outputs": [
        {
          "output_type": "execute_result",
          "data": {
            "text/html": [
              "<div>\n",
              "<style scoped>\n",
              "    .dataframe tbody tr th:only-of-type {\n",
              "        vertical-align: middle;\n",
              "    }\n",
              "\n",
              "    .dataframe tbody tr th {\n",
              "        vertical-align: top;\n",
              "    }\n",
              "\n",
              "    .dataframe thead th {\n",
              "        text-align: right;\n",
              "    }\n",
              "</style>\n",
              "<table border=\"1\" class=\"dataframe\">\n",
              "  <thead>\n",
              "    <tr style=\"text-align: right;\">\n",
              "      <th></th>\n",
              "      <th>unix_time</th>\n",
              "      <th>PM10_seoul</th>\n",
              "      <th>PM2.5_seoul</th>\n",
              "      <th>WS_seoul</th>\n",
              "      <th>WD_seoul</th>\n",
              "      <th>PM2.5_ch</th>\n",
              "      <th>PM10_ch</th>\n",
              "      <th>WSPM_ch</th>\n",
              "      <th>wd_ch</th>\n",
              "      <th>PM10_baek</th>\n",
              "      <th>PM2.5_baek</th>\n",
              "      <th>WS_baek</th>\n",
              "      <th>WD_baek</th>\n",
              "    </tr>\n",
              "  </thead>\n",
              "  <tbody>\n",
              "    <tr>\n",
              "      <th>0</th>\n",
              "      <td>1.420157</td>\n",
              "      <td>1.322219</td>\n",
              "      <td>0.954243</td>\n",
              "      <td>-0.145251</td>\n",
              "      <td>0.876002</td>\n",
              "      <td>-0.802185</td>\n",
              "      <td>-0.624833</td>\n",
              "      <td>1.992917</td>\n",
              "      <td>-0.054308</td>\n",
              "      <td>-0.571922</td>\n",
              "      <td>-0.840608</td>\n",
              "      <td>1.280499</td>\n",
              "      <td>1.107285</td>\n",
              "    </tr>\n",
              "    <tr>\n",
              "      <th>1</th>\n",
              "      <td>1.420157</td>\n",
              "      <td>1.322219</td>\n",
              "      <td>0.954243</td>\n",
              "      <td>-0.145251</td>\n",
              "      <td>0.876002</td>\n",
              "      <td>-0.802185</td>\n",
              "      <td>-0.624833</td>\n",
              "      <td>1.992917</td>\n",
              "      <td>-0.054308</td>\n",
              "      <td>-0.571922</td>\n",
              "      <td>-0.840608</td>\n",
              "      <td>1.280499</td>\n",
              "      <td>1.107285</td>\n",
              "    </tr>\n",
              "    <tr>\n",
              "      <th>2</th>\n",
              "      <td>1.420160</td>\n",
              "      <td>1.397940</td>\n",
              "      <td>0.954243</td>\n",
              "      <td>-1.054190</td>\n",
              "      <td>-0.442967</td>\n",
              "      <td>-0.824897</td>\n",
              "      <td>-0.819004</td>\n",
              "      <td>2.944430</td>\n",
              "      <td>-0.673128</td>\n",
              "      <td>-0.571922</td>\n",
              "      <td>-0.840608</td>\n",
              "      <td>1.884139</td>\n",
              "      <td>1.107285</td>\n",
              "    </tr>\n",
              "    <tr>\n",
              "      <th>3</th>\n",
              "      <td>1.420160</td>\n",
              "      <td>1.397940</td>\n",
              "      <td>0.954243</td>\n",
              "      <td>-1.054190</td>\n",
              "      <td>-0.442967</td>\n",
              "      <td>-0.824897</td>\n",
              "      <td>-0.819004</td>\n",
              "      <td>2.944430</td>\n",
              "      <td>-0.673128</td>\n",
              "      <td>-0.571922</td>\n",
              "      <td>-0.840608</td>\n",
              "      <td>1.884139</td>\n",
              "      <td>1.107285</td>\n",
              "    </tr>\n",
              "    <tr>\n",
              "      <th>4</th>\n",
              "      <td>1.420164</td>\n",
              "      <td>1.380211</td>\n",
              "      <td>0.954243</td>\n",
              "      <td>-0.564761</td>\n",
              "      <td>0.876002</td>\n",
              "      <td>-0.802185</td>\n",
              "      <td>-0.789879</td>\n",
              "      <td>1.834332</td>\n",
              "      <td>-0.673128</td>\n",
              "      <td>-0.628442</td>\n",
              "      <td>-0.932229</td>\n",
              "      <td>2.185959</td>\n",
              "      <td>1.107285</td>\n",
              "    </tr>\n",
              "    <tr>\n",
              "      <th>...</th>\n",
              "      <td>...</td>\n",
              "      <td>...</td>\n",
              "      <td>...</td>\n",
              "      <td>...</td>\n",
              "      <td>...</td>\n",
              "      <td>...</td>\n",
              "      <td>...</td>\n",
              "      <td>...</td>\n",
              "      <td>...</td>\n",
              "      <td>...</td>\n",
              "      <td>...</td>\n",
              "      <td>...</td>\n",
              "      <td>...</td>\n",
              "    </tr>\n",
              "    <tr>\n",
              "      <th>14717</th>\n",
              "      <td>1.451596</td>\n",
              "      <td>1.924279</td>\n",
              "      <td>1.690196</td>\n",
              "      <td>-0.984272</td>\n",
              "      <td>-0.819816</td>\n",
              "      <td>-0.790829</td>\n",
              "      <td>-0.974341</td>\n",
              "      <td>0.248478</td>\n",
              "      <td>-1.085674</td>\n",
              "      <td>-0.213966</td>\n",
              "      <td>0.029791</td>\n",
              "      <td>-0.099250</td>\n",
              "      <td>1.107285</td>\n",
              "    </tr>\n",
              "    <tr>\n",
              "      <th>14718</th>\n",
              "      <td>1.451599</td>\n",
              "      <td>1.986772</td>\n",
              "      <td>1.716003</td>\n",
              "      <td>-1.054190</td>\n",
              "      <td>-0.819816</td>\n",
              "      <td>-0.756761</td>\n",
              "      <td>-0.945215</td>\n",
              "      <td>-0.465157</td>\n",
              "      <td>-0.466854</td>\n",
              "      <td>-0.364685</td>\n",
              "      <td>-0.153450</td>\n",
              "      <td>-0.142367</td>\n",
              "      <td>1.107285</td>\n",
              "    </tr>\n",
              "    <tr>\n",
              "      <th>14719</th>\n",
              "      <td>1.451599</td>\n",
              "      <td>1.986772</td>\n",
              "      <td>1.716003</td>\n",
              "      <td>-1.054190</td>\n",
              "      <td>-0.819816</td>\n",
              "      <td>-0.756761</td>\n",
              "      <td>-0.945215</td>\n",
              "      <td>-0.465157</td>\n",
              "      <td>-0.466854</td>\n",
              "      <td>-0.364685</td>\n",
              "      <td>-0.153450</td>\n",
              "      <td>-0.142367</td>\n",
              "      <td>1.107285</td>\n",
              "    </tr>\n",
              "    <tr>\n",
              "      <th>14720</th>\n",
              "      <td>1.451603</td>\n",
              "      <td>1.968483</td>\n",
              "      <td>1.681241</td>\n",
              "      <td>-1.263945</td>\n",
              "      <td>-0.819816</td>\n",
              "      <td>-0.699981</td>\n",
              "      <td>-0.896673</td>\n",
              "      <td>-0.306571</td>\n",
              "      <td>-0.673128</td>\n",
              "      <td>-0.251646</td>\n",
              "      <td>-0.290882</td>\n",
              "      <td>-0.271718</td>\n",
              "      <td>0.908292</td>\n",
              "    </tr>\n",
              "    <tr>\n",
              "      <th>14721</th>\n",
              "      <td>1.451603</td>\n",
              "      <td>1.968483</td>\n",
              "      <td>1.681241</td>\n",
              "      <td>-1.263945</td>\n",
              "      <td>-0.819816</td>\n",
              "      <td>-0.699981</td>\n",
              "      <td>-0.896673</td>\n",
              "      <td>-0.306571</td>\n",
              "      <td>-0.673128</td>\n",
              "      <td>-0.251646</td>\n",
              "      <td>-0.290882</td>\n",
              "      <td>-0.271718</td>\n",
              "      <td>0.908292</td>\n",
              "    </tr>\n",
              "  </tbody>\n",
              "</table>\n",
              "<p>14722 rows × 13 columns</p>\n",
              "</div>"
            ],
            "text/plain": [
              "       unix_time  PM10_seoul  PM2.5_seoul  ...  PM2.5_baek   WS_baek   WD_baek\n",
              "0       1.420157    1.322219     0.954243  ...   -0.840608  1.280499  1.107285\n",
              "1       1.420157    1.322219     0.954243  ...   -0.840608  1.280499  1.107285\n",
              "2       1.420160    1.397940     0.954243  ...   -0.840608  1.884139  1.107285\n",
              "3       1.420160    1.397940     0.954243  ...   -0.840608  1.884139  1.107285\n",
              "4       1.420164    1.380211     0.954243  ...   -0.932229  2.185959  1.107285\n",
              "...          ...         ...          ...  ...         ...       ...       ...\n",
              "14717   1.451596    1.924279     1.690196  ...    0.029791 -0.099250  1.107285\n",
              "14718   1.451599    1.986772     1.716003  ...   -0.153450 -0.142367  1.107285\n",
              "14719   1.451599    1.986772     1.716003  ...   -0.153450 -0.142367  1.107285\n",
              "14720   1.451603    1.968483     1.681241  ...   -0.290882 -0.271718  0.908292\n",
              "14721   1.451603    1.968483     1.681241  ...   -0.290882 -0.271718  0.908292\n",
              "\n",
              "[14722 rows x 13 columns]"
            ]
          },
          "metadata": {
            "tags": []
          },
          "execution_count": 25
        }
      ]
    },
    {
      "cell_type": "markdown",
      "metadata": {
        "id": "qjUFFPmn_LWJ"
      },
      "source": [
        "## Data split"
      ]
    },
    {
      "cell_type": "code",
      "metadata": {
        "id": "HdYC0LlP_TFV",
        "colab": {
          "base_uri": "https://localhost:8080/"
        },
        "outputId": "39b102a3-44ad-4b34-9461-3ad85429d0e6"
      },
      "source": [
        "x = scaled_df.loc[:, 'WS_seoul':]\n",
        "x['unix_time'] = scaled_df['unix_time']\n",
        "y_pm10 = scaled_df['PM10_seoul']\n",
        "y_pm25 = scaled_df['PM2.5_seoul']\n",
        "y_pm10"
      ],
      "execution_count": null,
      "outputs": [
        {
          "output_type": "stream",
          "text": [
            "/usr/local/lib/python3.7/dist-packages/ipykernel_launcher.py:2: SettingWithCopyWarning: \n",
            "A value is trying to be set on a copy of a slice from a DataFrame.\n",
            "Try using .loc[row_indexer,col_indexer] = value instead\n",
            "\n",
            "See the caveats in the documentation: https://pandas.pydata.org/pandas-docs/stable/user_guide/indexing.html#returning-a-view-versus-a-copy\n",
            "  \n"
          ],
          "name": "stderr"
        },
        {
          "output_type": "execute_result",
          "data": {
            "text/plain": [
              "0        1.322219\n",
              "1        1.322219\n",
              "2        1.397940\n",
              "3        1.397940\n",
              "4        1.380211\n",
              "           ...   \n",
              "14717    1.924279\n",
              "14718    1.986772\n",
              "14719    1.986772\n",
              "14720    1.968483\n",
              "14721    1.968483\n",
              "Name: PM10_seoul, Length: 14722, dtype: float64"
            ]
          },
          "metadata": {
            "tags": []
          },
          "execution_count": 26
        }
      ]
    },
    {
      "cell_type": "code",
      "metadata": {
        "id": "jTLl8_kU_Ndo",
        "colab": {
          "base_uri": "https://localhost:8080/"
        },
        "outputId": "7daa29f9-317c-4a5d-f8bd-3e4701ff5df9"
      },
      "source": [
        "# 데이터 분할하기\n",
        "from sklearn.model_selection import train_test_split\n",
        "\n",
        "x_train, x_test, y_train, y_test = train_test_split(x, y_pm10, test_size=0.30, random_state=5)\n",
        "print('x_train: ', x_train.shape)\n",
        "print('x_test:', x_test.shape)\n",
        "print('y_train: ', y_train.shape)\n",
        "print('y_test: ', y_test.shape)"
      ],
      "execution_count": null,
      "outputs": [
        {
          "output_type": "stream",
          "text": [
            "x_train:  (10305, 11)\n",
            "x_test: (4417, 11)\n",
            "y_train:  (10305,)\n",
            "y_test:  (4417,)\n"
          ],
          "name": "stdout"
        }
      ]
    },
    {
      "cell_type": "markdown",
      "metadata": {
        "id": "6gQS0sL4AX1-"
      },
      "source": [
        "## Model Learning"
      ]
    },
    {
      "cell_type": "code",
      "metadata": {
        "id": "KZci9EjIAnqF"
      },
      "source": [
        "BATCH_SIZE = 16\n",
        "EPOCH_SIZE = 32"
      ],
      "execution_count": null,
      "outputs": []
    },
    {
      "cell_type": "code",
      "metadata": {
        "id": "4btHxhFVAUV6",
        "colab": {
          "base_uri": "https://localhost:8080/"
        },
        "outputId": "5a827e4a-b1ac-45ef-ed79-e02634a85e50"
      },
      "source": [
        "from keras.models import Sequential\n",
        "from keras.layers import Dense\n",
        "model = Sequential()\n",
        "model.add(Dense(units=300, activation='relu', input_dim=11))\n",
        "model.add(Dense(units=250, activation='relu'))\n",
        "model.add(Dense(units=200, activation='relu'))\n",
        "model.add(Dense(units=150, activation='relu'))\n",
        "model.add(Dense(units=100, activation='relu'))\n",
        "model.add(Dense(units=50, activation='relu'))\n",
        "model.add(Dense(units=1, activation='linear'))\n",
        "\n",
        "model.summary()"
      ],
      "execution_count": null,
      "outputs": [
        {
          "output_type": "stream",
          "text": [
            "Model: \"sequential_2\"\n",
            "_________________________________________________________________\n",
            "Layer (type)                 Output Shape              Param #   \n",
            "=================================================================\n",
            "dense_14 (Dense)             (None, 300)               3600      \n",
            "_________________________________________________________________\n",
            "dense_15 (Dense)             (None, 250)               75250     \n",
            "_________________________________________________________________\n",
            "dense_16 (Dense)             (None, 200)               50200     \n",
            "_________________________________________________________________\n",
            "dense_17 (Dense)             (None, 150)               30150     \n",
            "_________________________________________________________________\n",
            "dense_18 (Dense)             (None, 100)               15100     \n",
            "_________________________________________________________________\n",
            "dense_19 (Dense)             (None, 50)                5050      \n",
            "_________________________________________________________________\n",
            "dense_20 (Dense)             (None, 1)                 51        \n",
            "=================================================================\n",
            "Total params: 179,401\n",
            "Trainable params: 179,401\n",
            "Non-trainable params: 0\n",
            "_________________________________________________________________\n"
          ],
          "name": "stdout"
        }
      ]
    },
    {
      "cell_type": "code",
      "metadata": {
        "id": "FqbT4y1pA0hD",
        "colab": {
          "base_uri": "https://localhost:8080/"
        },
        "outputId": "547fb322-e95d-4179-ec96-b472f22194b4"
      },
      "source": [
        "model.compile(optimizer='adam', loss='mse', metrics=['accuracy'])\n",
        "model.fit(x_train, y_train, verbose=1, epochs=EPOCH_SIZE, batch_size=BATCH_SIZE, validation_data=(x_test, y_test))"
      ],
      "execution_count": null,
      "outputs": [
        {
          "output_type": "stream",
          "text": [
            "Epoch 1/32\n",
            "645/645 [==============================] - 4s 5ms/step - loss: 0.0123 - accuracy: 0.0104 - val_loss: 0.0257 - val_accuracy: 0.0086\n",
            "Epoch 2/32\n",
            "645/645 [==============================] - 3s 4ms/step - loss: 0.0123 - accuracy: 0.0082 - val_loss: 0.0235 - val_accuracy: 0.0086\n",
            "Epoch 3/32\n",
            "645/645 [==============================] - 3s 4ms/step - loss: 0.0113 - accuracy: 0.0099 - val_loss: 0.0237 - val_accuracy: 0.0086\n",
            "Epoch 4/32\n",
            "645/645 [==============================] - 3s 4ms/step - loss: 0.0103 - accuracy: 0.0080 - val_loss: 0.0227 - val_accuracy: 0.0086\n",
            "Epoch 5/32\n",
            "645/645 [==============================] - 3s 4ms/step - loss: 0.0088 - accuracy: 0.0091 - val_loss: 0.0227 - val_accuracy: 0.0086\n",
            "Epoch 6/32\n",
            "645/645 [==============================] - 3s 4ms/step - loss: 0.0090 - accuracy: 0.0077 - val_loss: 0.0232 - val_accuracy: 0.0086\n",
            "Epoch 7/32\n",
            "645/645 [==============================] - 3s 4ms/step - loss: 0.0102 - accuracy: 0.0103 - val_loss: 0.0229 - val_accuracy: 0.0086\n",
            "Epoch 8/32\n",
            "645/645 [==============================] - 3s 4ms/step - loss: 0.0086 - accuracy: 0.0112 - val_loss: 0.0223 - val_accuracy: 0.0086\n",
            "Epoch 9/32\n",
            "645/645 [==============================] - 3s 4ms/step - loss: 0.0071 - accuracy: 0.0086 - val_loss: 0.0199 - val_accuracy: 0.0086\n",
            "Epoch 10/32\n",
            "645/645 [==============================] - 3s 4ms/step - loss: 0.0065 - accuracy: 0.0068 - val_loss: 0.0216 - val_accuracy: 0.0086\n",
            "Epoch 11/32\n",
            "645/645 [==============================] - 3s 4ms/step - loss: 0.0069 - accuracy: 0.0100 - val_loss: 0.0212 - val_accuracy: 0.0086\n",
            "Epoch 12/32\n",
            "645/645 [==============================] - 3s 4ms/step - loss: 0.0073 - accuracy: 0.0086 - val_loss: 0.0223 - val_accuracy: 0.0086\n",
            "Epoch 13/32\n",
            "645/645 [==============================] - 3s 4ms/step - loss: 0.0076 - accuracy: 0.0085 - val_loss: 0.0230 - val_accuracy: 0.0084\n",
            "Epoch 14/32\n",
            "645/645 [==============================] - 3s 4ms/step - loss: 0.0072 - accuracy: 0.0082 - val_loss: 0.0193 - val_accuracy: 0.0086\n",
            "Epoch 15/32\n",
            "645/645 [==============================] - 3s 4ms/step - loss: 0.0051 - accuracy: 0.0087 - val_loss: 0.0201 - val_accuracy: 0.0086\n",
            "Epoch 16/32\n",
            "645/645 [==============================] - 3s 4ms/step - loss: 0.0060 - accuracy: 0.0096 - val_loss: 0.0196 - val_accuracy: 0.0086\n",
            "Epoch 17/32\n",
            "645/645 [==============================] - 3s 4ms/step - loss: 0.0058 - accuracy: 0.0078 - val_loss: 0.0232 - val_accuracy: 0.0086\n",
            "Epoch 18/32\n",
            "645/645 [==============================] - 3s 4ms/step - loss: 0.0097 - accuracy: 0.0094 - val_loss: 0.0209 - val_accuracy: 0.0086\n",
            "Epoch 19/32\n",
            "645/645 [==============================] - 3s 4ms/step - loss: 0.0057 - accuracy: 0.0096 - val_loss: 0.0197 - val_accuracy: 0.0086\n",
            "Epoch 20/32\n",
            "645/645 [==============================] - 3s 4ms/step - loss: 0.0052 - accuracy: 0.0080 - val_loss: 0.0177 - val_accuracy: 0.0086\n",
            "Epoch 21/32\n",
            "645/645 [==============================] - 3s 4ms/step - loss: 0.0056 - accuracy: 0.0088 - val_loss: 0.0196 - val_accuracy: 0.0086\n",
            "Epoch 22/32\n",
            "645/645 [==============================] - 3s 4ms/step - loss: 0.0049 - accuracy: 0.0100 - val_loss: 0.0182 - val_accuracy: 0.0086\n",
            "Epoch 23/32\n",
            "645/645 [==============================] - 3s 4ms/step - loss: 0.0045 - accuracy: 0.0112 - val_loss: 0.0186 - val_accuracy: 0.0086\n",
            "Epoch 24/32\n",
            "645/645 [==============================] - 3s 4ms/step - loss: 0.0055 - accuracy: 0.0089 - val_loss: 0.0173 - val_accuracy: 0.0086\n",
            "Epoch 25/32\n",
            "645/645 [==============================] - 3s 4ms/step - loss: 0.0043 - accuracy: 0.0094 - val_loss: 0.0177 - val_accuracy: 0.0086\n",
            "Epoch 26/32\n",
            "645/645 [==============================] - 3s 4ms/step - loss: 0.0043 - accuracy: 0.0096 - val_loss: 0.0185 - val_accuracy: 0.0086\n",
            "Epoch 27/32\n",
            "645/645 [==============================] - 3s 4ms/step - loss: 0.0048 - accuracy: 0.0103 - val_loss: 0.0172 - val_accuracy: 0.0086\n",
            "Epoch 28/32\n",
            "645/645 [==============================] - 3s 4ms/step - loss: 0.0050 - accuracy: 0.0089 - val_loss: 0.0187 - val_accuracy: 0.0084\n",
            "Epoch 29/32\n",
            "645/645 [==============================] - 3s 4ms/step - loss: 0.0072 - accuracy: 0.0094 - val_loss: 0.0200 - val_accuracy: 0.0084\n",
            "Epoch 30/32\n",
            "645/645 [==============================] - 3s 4ms/step - loss: 0.0052 - accuracy: 0.0083 - val_loss: 0.0176 - val_accuracy: 0.0086\n",
            "Epoch 31/32\n",
            "645/645 [==============================] - 3s 4ms/step - loss: 0.0038 - accuracy: 0.0089 - val_loss: 0.0169 - val_accuracy: 0.0086\n",
            "Epoch 32/32\n",
            "645/645 [==============================] - 3s 4ms/step - loss: 0.0029 - accuracy: 0.0093 - val_loss: 0.0159 - val_accuracy: 0.0086\n"
          ],
          "name": "stdout"
        },
        {
          "output_type": "execute_result",
          "data": {
            "text/plain": [
              "<tensorflow.python.keras.callbacks.History at 0x7f5400275b90>"
            ]
          },
          "metadata": {
            "tags": []
          },
          "execution_count": 48
        }
      ]
    },
    {
      "cell_type": "markdown",
      "metadata": {
        "id": "_oaJPCsguNN_"
      },
      "source": [
        "# Predict - 1 (PM10)"
      ]
    },
    {
      "cell_type": "code",
      "metadata": {
        "id": "bVPVzDU2uPG7",
        "colab": {
          "base_uri": "https://localhost:8080/"
        },
        "outputId": "c55a6152-23a2-4cc1-b30b-54c57d5c6fe6"
      },
      "source": [
        "# 예측, y값을 주면 안된다.\n",
        "pred = model.predict(x_test)\n",
        "print(pred.shape, y_test.shape, x_test['unix_time'].shape)\n",
        "pred"
      ],
      "execution_count": null,
      "outputs": [
        {
          "output_type": "stream",
          "text": [
            "(4417, 1) (4417,) (4417,)\n"
          ],
          "name": "stdout"
        },
        {
          "output_type": "execute_result",
          "data": {
            "text/plain": [
              "array([[1.7369074],\n",
              "       [1.1704764],\n",
              "       [1.7076931],\n",
              "       ...,\n",
              "       [1.2012159],\n",
              "       [1.4821568],\n",
              "       [0.720883 ]], dtype=float32)"
            ]
          },
          "metadata": {
            "tags": []
          },
          "execution_count": 49
        }
      ]
    },
    {
      "cell_type": "markdown",
      "metadata": {
        "id": "UEGQLu5IuQgm"
      },
      "source": [
        "## Scatter plot (Corrects vs Predictions)"
      ]
    },
    {
      "cell_type": "code",
      "metadata": {
        "id": "CZ9coVSbuUlP",
        "colab": {
          "base_uri": "https://localhost:8080/",
          "height": 279
        },
        "outputId": "f10caa9b-f07a-4449-c411-16da60dbca0b"
      },
      "source": [
        "plt.scatter(10**y_test, 10**pred)\n",
        "plt.xlabel('Corrects')\n",
        "plt.ylabel('predictions')\n",
        "plt.show()"
      ],
      "execution_count": null,
      "outputs": [
        {
          "output_type": "display_data",
          "data": {
            "image/png": "[encoded data removed]",
            "text/plain": [
              "<Figure size 432x288 with 1 Axes>"
            ]
          },
          "metadata": {
            "tags": [],
            "needs_background": "light"
          }
        }
      ]
    },
    {
      "cell_type": "markdown",
      "metadata": {
        "id": "nm9dTnBAuY6N"
      },
      "source": [
        "## Time evolution plots"
      ]
    },
    {
      "cell_type": "code",
      "metadata": {
        "id": "laxYL57Cuazv",
        "colab": {
          "base_uri": "https://localhost:8080/",
          "height": 419
        },
        "outputId": "29e0affb-9021-408d-a8fd-ade2243946af"
      },
      "source": [
        "time_tst_sr = x_test['unix_time']\n",
        "pred = pd.Series(pred.reshape(4417,), name='predictions')\n",
        "df_label = pd.concat([time_tst_sr, y_test], axis=1)\n",
        "time_tsr_sr2 = time_tst_sr.reset_index()\n",
        "df_pred = pd.concat([time_tsr_sr2, pred], axis=1)\n",
        "df_label = df_label.sort_values(by=['unix_time'])\n",
        "df_pred = df_pred.sort_values(by=['unix_time'])\n",
        "df_pred"
      ],
      "execution_count": null,
      "outputs": [
        {
          "output_type": "execute_result",
          "data": {
            "text/html": [
              "<div>\n",
              "<style scoped>\n",
              "    .dataframe tbody tr th:only-of-type {\n",
              "        vertical-align: middle;\n",
              "    }\n",
              "\n",
              "    .dataframe tbody tr th {\n",
              "        vertical-align: top;\n",
              "    }\n",
              "\n",
              "    .dataframe thead th {\n",
              "        text-align: right;\n",
              "    }\n",
              "</style>\n",
              "<table border=\"1\" class=\"dataframe\">\n",
              "  <thead>\n",
              "    <tr style=\"text-align: right;\">\n",
              "      <th></th>\n",
              "      <th>index</th>\n",
              "      <th>unix_time</th>\n",
              "      <th>predictions</th>\n",
              "    </tr>\n",
              "  </thead>\n",
              "  <tbody>\n",
              "    <tr>\n",
              "      <th>4052</th>\n",
              "      <td>1</td>\n",
              "      <td>1.420157</td>\n",
              "      <td>1.579077</td>\n",
              "    </tr>\n",
              "    <tr>\n",
              "      <th>4277</th>\n",
              "      <td>0</td>\n",
              "      <td>1.420157</td>\n",
              "      <td>1.579077</td>\n",
              "    </tr>\n",
              "    <tr>\n",
              "      <th>2207</th>\n",
              "      <td>6</td>\n",
              "      <td>1.420168</td>\n",
              "      <td>1.412757</td>\n",
              "    </tr>\n",
              "    <tr>\n",
              "      <th>111</th>\n",
              "      <td>8</td>\n",
              "      <td>1.420171</td>\n",
              "      <td>1.342177</td>\n",
              "    </tr>\n",
              "    <tr>\n",
              "      <th>981</th>\n",
              "      <td>15</td>\n",
              "      <td>1.420182</td>\n",
              "      <td>1.465995</td>\n",
              "    </tr>\n",
              "    <tr>\n",
              "      <th>...</th>\n",
              "      <td>...</td>\n",
              "      <td>...</td>\n",
              "      <td>...</td>\n",
              "    </tr>\n",
              "    <tr>\n",
              "      <th>395</th>\n",
              "      <td>14711</td>\n",
              "      <td>1.451585</td>\n",
              "      <td>1.848144</td>\n",
              "    </tr>\n",
              "    <tr>\n",
              "      <th>3992</th>\n",
              "      <td>14712</td>\n",
              "      <td>1.451588</td>\n",
              "      <td>1.766262</td>\n",
              "    </tr>\n",
              "    <tr>\n",
              "      <th>2865</th>\n",
              "      <td>14713</td>\n",
              "      <td>1.451588</td>\n",
              "      <td>1.766262</td>\n",
              "    </tr>\n",
              "    <tr>\n",
              "      <th>3560</th>\n",
              "      <td>14718</td>\n",
              "      <td>1.451599</td>\n",
              "      <td>1.928088</td>\n",
              "    </tr>\n",
              "    <tr>\n",
              "      <th>3517</th>\n",
              "      <td>14720</td>\n",
              "      <td>1.451603</td>\n",
              "      <td>1.897458</td>\n",
              "    </tr>\n",
              "  </tbody>\n",
              "</table>\n",
              "<p>4417 rows × 3 columns</p>\n",
              "</div>"
            ],
            "text/plain": [
              "      index  unix_time  predictions\n",
              "4052      1   1.420157     1.579077\n",
              "4277      0   1.420157     1.579077\n",
              "2207      6   1.420168     1.412757\n",
              "111       8   1.420171     1.342177\n",
              "981      15   1.420182     1.465995\n",
              "...     ...        ...          ...\n",
              "395   14711   1.451585     1.848144\n",
              "3992  14712   1.451588     1.766262\n",
              "2865  14713   1.451588     1.766262\n",
              "3560  14718   1.451599     1.928088\n",
              "3517  14720   1.451603     1.897458\n",
              "\n",
              "[4417 rows x 3 columns]"
            ]
          },
          "metadata": {
            "tags": []
          },
          "execution_count": 64
        }
      ]
    },
    {
      "cell_type": "code",
      "metadata": {
        "id": "AZq1ilMyucUa",
        "colab": {
          "base_uri": "https://localhost:8080/",
          "height": 296
        },
        "outputId": "431e0e22-d024-4e1d-c673-0ffd91c850d1"
      },
      "source": [
        "plt.plot(df_label['unix_time'], 10**df_label['PM10_seoul'], color='red')\n",
        "plt.xlabel('unix_time / 10^9')\n",
        "plt.ylabel('PM10(ug/m^3)')\n",
        "plt.title('Real PM10')\n",
        "plt.show()"
      ],
      "execution_count": null,
      "outputs": [
        {
          "output_type": "display_data",
          "data": {
            "image/png": "[encoded data removed]",
            "text/plain": [
              "<Figure size 432x288 with 1 Axes>"
            ]
          },
          "metadata": {
            "tags": [],
            "needs_background": "light"
          }
        }
      ]
    },
    {
      "cell_type": "code",
      "metadata": {
        "id": "NCwTrzNzupgH",
        "colab": {
          "base_uri": "https://localhost:8080/",
          "height": 296
        },
        "outputId": "20adaea6-a591-4d35-be80-b7682ee896ff"
      },
      "source": [
        "plt.plot(df_pred['unix_time'], 10**df_pred['predictions'], color='blue')\n",
        "plt.xlabel('unix_time / 10^9')\n",
        "plt.ylabel('PM10(ug/m^3)')\n",
        "plt.title('Predict PM10')\n",
        "plt.show()"
      ],
      "execution_count": null,
      "outputs": [
        {
          "output_type": "display_data",
          "data": {
            "image/png": "[encoded data removed]",
            "text/plain": [
              "<Figure size 432x288 with 1 Axes>"
            ]
          },
          "metadata": {
            "tags": [],
            "needs_background": "light"
          }
        }
      ]
    },
    {
      "cell_type": "markdown",
      "metadata": {
        "id": "EtiR61CudNGw"
      },
      "source": [
        "# Model - 2 (PM2.5)"
      ]
    },
    {
      "cell_type": "code",
      "metadata": {
        "id": "BW8TnoRNWfpY"
      },
      "source": [
        ""
      ],
      "execution_count": null,
      "outputs": []
    },
    {
      "cell_type": "markdown",
      "metadata": {
        "id": "XQfGDC26duh0"
      },
      "source": [
        "## Data split"
      ]
    },
    {
      "cell_type": "code",
      "metadata": {
        "id": "0Q_rZSdndvvO",
        "colab": {
          "base_uri": "https://localhost:8080/"
        },
        "outputId": "adb0b64a-2362-45a4-959c-bcc323c31ccf"
      },
      "source": [
        "# 데이터 분할하기\n",
        "from sklearn.model_selection import train_test_split\n",
        "\n",
        "x_train, x_test, y_train_2, y_test_2 = train_test_split(x, y_pm25, test_size=0.30, random_state=5)\n",
        "print('x_train: ', x_train.shape)\n",
        "print('x_test:', x_test.shape)\n",
        "print('y_train: ', y_train.shape)\n",
        "print('y_test: ', y_test.shape)"
      ],
      "execution_count": null,
      "outputs": [
        {
          "output_type": "stream",
          "text": [
            "x_train:  (10305, 11)\n",
            "x_test: (4417, 11)\n",
            "y_train:  (10305,)\n",
            "y_test:  (4417,)\n"
          ],
          "name": "stdout"
        }
      ]
    },
    {
      "cell_type": "markdown",
      "metadata": {
        "id": "jj3-IGE5dgSp"
      },
      "source": [
        "## Model Learning"
      ]
    },
    {
      "cell_type": "code",
      "metadata": {
        "id": "Nt89VI8kdju0",
        "colab": {
          "base_uri": "https://localhost:8080/"
        },
        "outputId": "c0e84b7d-3090-4c22-9539-04feb0c117b0"
      },
      "source": [
        "from keras.models import Sequential\n",
        "from keras.layers import Dense\n",
        "model2 = Sequential()\n",
        "model2.add(Dense(units=300, activation='relu', input_dim=11)) # 12개가 들어와 300개로 나뉜다\n",
        "model2.add(Dense(units=250, activation='relu')) # 250개가 들어와\n",
        "model2.add(Dense(units=200, activation='relu')) # 200개가 들어와\n",
        "model2.add(Dense(units=150, activation='relu')) # 150개가 들어와\n",
        "model2.add(Dense(units=100, activation='relu')) # 100개가 들어와\n",
        "model2.add(Dense(units=50, activation='relu')) # 50개가 들어와\n",
        "model2.add(Dense(units=1, activation='linear')) # 마지막 출구로 1개에 리니어\n",
        "\n",
        "model2.summary()"
      ],
      "execution_count": null,
      "outputs": [
        {
          "output_type": "stream",
          "text": [
            "Model: \"sequential_3\"\n",
            "_________________________________________________________________\n",
            "Layer (type)                 Output Shape              Param #   \n",
            "=================================================================\n",
            "dense_21 (Dense)             (None, 300)               3600      \n",
            "_________________________________________________________________\n",
            "dense_22 (Dense)             (None, 250)               75250     \n",
            "_________________________________________________________________\n",
            "dense_23 (Dense)             (None, 200)               50200     \n",
            "_________________________________________________________________\n",
            "dense_24 (Dense)             (None, 150)               30150     \n",
            "_________________________________________________________________\n",
            "dense_25 (Dense)             (None, 100)               15100     \n",
            "_________________________________________________________________\n",
            "dense_26 (Dense)             (None, 50)                5050      \n",
            "_________________________________________________________________\n",
            "dense_27 (Dense)             (None, 1)                 51        \n",
            "=================================================================\n",
            "Total params: 179,401\n",
            "Trainable params: 179,401\n",
            "Non-trainable params: 0\n",
            "_________________________________________________________________\n"
          ],
          "name": "stdout"
        }
      ]
    },
    {
      "cell_type": "code",
      "metadata": {
        "id": "enDtqFjLdmhP",
        "colab": {
          "base_uri": "https://localhost:8080/"
        },
        "outputId": "c9403e1c-cf95-453f-8e28-b84c52e4529c"
      },
      "source": [
        "model2.compile(optimizer='sgd', loss='mse', metrics=['accuracy'])\n",
        "model2.fit(x_train, y_train_2, verbose=1, epochs=EPOCH_SIZE, batch_size=BATCH_SIZE, validation_data=(x_test, y_test_2))"
      ],
      "execution_count": null,
      "outputs": [
        {
          "output_type": "stream",
          "text": [
            "Epoch 1/32\n",
            "645/645 [==============================] - 3s 4ms/step - loss: 0.0088 - accuracy: 0.0268 - val_loss: 0.0249 - val_accuracy: 0.0294\n",
            "Epoch 2/32\n",
            "645/645 [==============================] - 3s 4ms/step - loss: 0.0071 - accuracy: 0.0313 - val_loss: 0.0243 - val_accuracy: 0.0292\n",
            "Epoch 3/32\n",
            "645/645 [==============================] - 3s 4ms/step - loss: 0.0061 - accuracy: 0.0287 - val_loss: 0.0239 - val_accuracy: 0.0292\n",
            "Epoch 4/32\n",
            "645/645 [==============================] - 3s 4ms/step - loss: 0.0056 - accuracy: 0.0295 - val_loss: 0.0236 - val_accuracy: 0.0292\n",
            "Epoch 5/32\n",
            "645/645 [==============================] - 3s 4ms/step - loss: 0.0054 - accuracy: 0.0305 - val_loss: 0.0234 - val_accuracy: 0.0292\n",
            "Epoch 6/32\n",
            "645/645 [==============================] - 3s 4ms/step - loss: 0.0054 - accuracy: 0.0303 - val_loss: 0.0232 - val_accuracy: 0.0292\n",
            "Epoch 7/32\n",
            "645/645 [==============================] - 3s 4ms/step - loss: 0.0050 - accuracy: 0.0303 - val_loss: 0.0231 - val_accuracy: 0.0292\n",
            "Epoch 8/32\n",
            "645/645 [==============================] - 3s 4ms/step - loss: 0.0049 - accuracy: 0.0276 - val_loss: 0.0232 - val_accuracy: 0.0292\n",
            "Epoch 9/32\n",
            "645/645 [==============================] - 3s 4ms/step - loss: 0.0046 - accuracy: 0.0325 - val_loss: 0.0228 - val_accuracy: 0.0292\n",
            "Epoch 10/32\n",
            "645/645 [==============================] - 3s 4ms/step - loss: 0.0045 - accuracy: 0.0292 - val_loss: 0.0229 - val_accuracy: 0.0292\n",
            "Epoch 11/32\n",
            "645/645 [==============================] - 3s 4ms/step - loss: 0.0044 - accuracy: 0.0315 - val_loss: 0.0227 - val_accuracy: 0.0292\n",
            "Epoch 12/32\n",
            "645/645 [==============================] - 3s 4ms/step - loss: 0.0044 - accuracy: 0.0301 - val_loss: 0.0226 - val_accuracy: 0.0292\n",
            "Epoch 13/32\n",
            "645/645 [==============================] - 3s 4ms/step - loss: 0.0044 - accuracy: 0.0267 - val_loss: 0.0226 - val_accuracy: 0.0292\n",
            "Epoch 14/32\n",
            "645/645 [==============================] - 3s 4ms/step - loss: 0.0042 - accuracy: 0.0279 - val_loss: 0.0225 - val_accuracy: 0.0294\n",
            "Epoch 15/32\n",
            "645/645 [==============================] - 3s 4ms/step - loss: 0.0040 - accuracy: 0.0280 - val_loss: 0.0225 - val_accuracy: 0.0294\n",
            "Epoch 16/32\n",
            "645/645 [==============================] - 3s 4ms/step - loss: 0.0040 - accuracy: 0.0271 - val_loss: 0.0225 - val_accuracy: 0.0294\n",
            "Epoch 17/32\n",
            "645/645 [==============================] - 3s 4ms/step - loss: 0.0039 - accuracy: 0.0303 - val_loss: 0.0223 - val_accuracy: 0.0294\n",
            "Epoch 18/32\n",
            "645/645 [==============================] - 3s 4ms/step - loss: 0.0038 - accuracy: 0.0305 - val_loss: 0.0223 - val_accuracy: 0.0294\n",
            "Epoch 19/32\n",
            "645/645 [==============================] - 3s 4ms/step - loss: 0.0038 - accuracy: 0.0281 - val_loss: 0.0223 - val_accuracy: 0.0294\n",
            "Epoch 20/32\n",
            "645/645 [==============================] - 3s 4ms/step - loss: 0.0037 - accuracy: 0.0278 - val_loss: 0.0222 - val_accuracy: 0.0294\n",
            "Epoch 21/32\n",
            "645/645 [==============================] - 3s 4ms/step - loss: 0.0037 - accuracy: 0.0300 - val_loss: 0.0222 - val_accuracy: 0.0294\n",
            "Epoch 22/32\n",
            "645/645 [==============================] - 3s 4ms/step - loss: 0.0035 - accuracy: 0.0301 - val_loss: 0.0222 - val_accuracy: 0.0294\n",
            "Epoch 23/32\n",
            "645/645 [==============================] - 3s 4ms/step - loss: 0.0035 - accuracy: 0.0300 - val_loss: 0.0222 - val_accuracy: 0.0294\n",
            "Epoch 24/32\n",
            "645/645 [==============================] - 3s 4ms/step - loss: 0.0037 - accuracy: 0.0292 - val_loss: 0.0221 - val_accuracy: 0.0294\n",
            "Epoch 25/32\n",
            "645/645 [==============================] - 3s 4ms/step - loss: 0.0034 - accuracy: 0.0311 - val_loss: 0.0221 - val_accuracy: 0.0294\n",
            "Epoch 26/32\n",
            "645/645 [==============================] - 3s 4ms/step - loss: 0.0035 - accuracy: 0.0328 - val_loss: 0.0220 - val_accuracy: 0.0294\n",
            "Epoch 27/32\n",
            "645/645 [==============================] - 3s 4ms/step - loss: 0.0032 - accuracy: 0.0329 - val_loss: 0.0223 - val_accuracy: 0.0294\n",
            "Epoch 28/32\n",
            "645/645 [==============================] - 3s 4ms/step - loss: 0.0033 - accuracy: 0.0286 - val_loss: 0.0220 - val_accuracy: 0.0294\n",
            "Epoch 29/32\n",
            "645/645 [==============================] - 3s 4ms/step - loss: 0.0034 - accuracy: 0.0320 - val_loss: 0.0220 - val_accuracy: 0.0294\n",
            "Epoch 30/32\n",
            "645/645 [==============================] - 3s 4ms/step - loss: 0.0034 - accuracy: 0.0263 - val_loss: 0.0220 - val_accuracy: 0.0294\n",
            "Epoch 31/32\n",
            "645/645 [==============================] - 3s 4ms/step - loss: 0.0033 - accuracy: 0.0301 - val_loss: 0.0219 - val_accuracy: 0.0294\n",
            "Epoch 32/32\n",
            "645/645 [==============================] - 3s 4ms/step - loss: 0.0033 - accuracy: 0.0323 - val_loss: 0.0219 - val_accuracy: 0.0294\n"
          ],
          "name": "stdout"
        },
        {
          "output_type": "execute_result",
          "data": {
            "text/plain": [
              "<tensorflow.python.keras.callbacks.History at 0x7f53b9a897d0>"
            ]
          },
          "metadata": {
            "tags": []
          },
          "execution_count": 58
        }
      ]
    },
    {
      "cell_type": "markdown",
      "metadata": {
        "id": "oahNmsVCeChL"
      },
      "source": [
        "# Predict - 2 (PM2.5)"
      ]
    },
    {
      "cell_type": "code",
      "metadata": {
        "id": "HFHlnDmfd6pB",
        "colab": {
          "base_uri": "https://localhost:8080/"
        },
        "outputId": "f59058dc-895a-4001-baf6-87504533dd92"
      },
      "source": [
        "# 예측, y값을 주면 안된다.\n",
        "pred_2 = model2.predict(x_test)\n",
        "print(pred.shape, y_test_2.shape, x_test['unix_time'].shape)\n",
        "pred_2"
      ],
      "execution_count": null,
      "outputs": [
        {
          "output_type": "stream",
          "text": [
            "(4417, 1) (4417,) (4417,)\n"
          ],
          "name": "stdout"
        },
        {
          "output_type": "execute_result",
          "data": {
            "text/plain": [
              "array([[1.5097743 ],\n",
              "       [1.0915313 ],\n",
              "       [1.2920464 ],\n",
              "       ...,\n",
              "       [0.96170604],\n",
              "       [1.2649105 ],\n",
              "       [0.39704037]], dtype=float32)"
            ]
          },
          "metadata": {
            "tags": []
          },
          "execution_count": 59
        }
      ]
    },
    {
      "cell_type": "markdown",
      "metadata": {
        "id": "iw01DJu0eXBb"
      },
      "source": [
        "## Scatter plot (Corrects vs Predictions)"
      ]
    },
    {
      "cell_type": "code",
      "metadata": {
        "id": "BV0mmWioeQgT",
        "colab": {
          "base_uri": "https://localhost:8080/",
          "height": 279
        },
        "outputId": "ba18f54b-d232-4f1f-ef5c-0510f29c5e9e"
      },
      "source": [
        "plt.scatter(10**y_test_2, 10**pred_2)\n",
        "plt.xlabel('Corrects')\n",
        "plt.ylabel('predictions')\n",
        "plt.show()"
      ],
      "execution_count": null,
      "outputs": [
        {
          "output_type": "display_data",
          "data": {
            "image/png": "[encoded data removed]",
            "text/plain": [
              "<Figure size 432x288 with 1 Axes>"
            ]
          },
          "metadata": {
            "tags": [],
            "needs_background": "light"
          }
        }
      ]
    },
    {
      "cell_type": "markdown",
      "metadata": {
        "id": "qGOIyG7cfe2G"
      },
      "source": [
        "## Time evolution plots"
      ]
    },
    {
      "cell_type": "code",
      "metadata": {
        "id": "r9phM-UIe_g4",
        "colab": {
          "base_uri": "https://localhost:8080/",
          "height": 419
        },
        "outputId": "1b94f3f0-1bf7-4c8d-93e3-92169cb63129"
      },
      "source": [
        "time_tst_sr = x_test['unix_time']\n",
        "pred_2 = pd.Series(pred_2.reshape(4417,), name='predictions')\n",
        "df_label = pd.concat([time_tst_sr, y_test_2], axis=1)\n",
        "time_tsr_sr2 = time_tst_sr.reset_index()\n",
        "df_pred = pd.concat([time_tsr_sr2, pred_2], axis=1)\n",
        "df_label = df_label.sort_values(by=['unix_time'])\n",
        "df_pred = df_pred.sort_values(by=['unix_time'])\n",
        "df_pred"
      ],
      "execution_count": null,
      "outputs": [
        {
          "output_type": "execute_result",
          "data": {
            "text/html": [
              "<div>\n",
              "<style scoped>\n",
              "    .dataframe tbody tr th:only-of-type {\n",
              "        vertical-align: middle;\n",
              "    }\n",
              "\n",
              "    .dataframe tbody tr th {\n",
              "        vertical-align: top;\n",
              "    }\n",
              "\n",
              "    .dataframe thead th {\n",
              "        text-align: right;\n",
              "    }\n",
              "</style>\n",
              "<table border=\"1\" class=\"dataframe\">\n",
              "  <thead>\n",
              "    <tr style=\"text-align: right;\">\n",
              "      <th></th>\n",
              "      <th>index</th>\n",
              "      <th>unix_time</th>\n",
              "      <th>predictions</th>\n",
              "    </tr>\n",
              "  </thead>\n",
              "  <tbody>\n",
              "    <tr>\n",
              "      <th>4052</th>\n",
              "      <td>1</td>\n",
              "      <td>1.420157</td>\n",
              "      <td>1.021284</td>\n",
              "    </tr>\n",
              "    <tr>\n",
              "      <th>4277</th>\n",
              "      <td>0</td>\n",
              "      <td>1.420157</td>\n",
              "      <td>1.021284</td>\n",
              "    </tr>\n",
              "    <tr>\n",
              "      <th>2207</th>\n",
              "      <td>6</td>\n",
              "      <td>1.420168</td>\n",
              "      <td>0.972533</td>\n",
              "    </tr>\n",
              "    <tr>\n",
              "      <th>111</th>\n",
              "      <td>8</td>\n",
              "      <td>1.420171</td>\n",
              "      <td>0.892462</td>\n",
              "    </tr>\n",
              "    <tr>\n",
              "      <th>981</th>\n",
              "      <td>15</td>\n",
              "      <td>1.420182</td>\n",
              "      <td>1.206077</td>\n",
              "    </tr>\n",
              "    <tr>\n",
              "      <th>...</th>\n",
              "      <td>...</td>\n",
              "      <td>...</td>\n",
              "      <td>...</td>\n",
              "    </tr>\n",
              "    <tr>\n",
              "      <th>395</th>\n",
              "      <td>14711</td>\n",
              "      <td>1.451585</td>\n",
              "      <td>1.650321</td>\n",
              "    </tr>\n",
              "    <tr>\n",
              "      <th>3992</th>\n",
              "      <td>14712</td>\n",
              "      <td>1.451588</td>\n",
              "      <td>1.441912</td>\n",
              "    </tr>\n",
              "    <tr>\n",
              "      <th>2865</th>\n",
              "      <td>14713</td>\n",
              "      <td>1.451588</td>\n",
              "      <td>1.441912</td>\n",
              "    </tr>\n",
              "    <tr>\n",
              "      <th>3560</th>\n",
              "      <td>14718</td>\n",
              "      <td>1.451599</td>\n",
              "      <td>1.690596</td>\n",
              "    </tr>\n",
              "    <tr>\n",
              "      <th>3517</th>\n",
              "      <td>14720</td>\n",
              "      <td>1.451603</td>\n",
              "      <td>1.571387</td>\n",
              "    </tr>\n",
              "  </tbody>\n",
              "</table>\n",
              "<p>4417 rows × 3 columns</p>\n",
              "</div>"
            ],
            "text/plain": [
              "      index  unix_time  predictions\n",
              "4052      1   1.420157     1.021284\n",
              "4277      0   1.420157     1.021284\n",
              "2207      6   1.420168     0.972533\n",
              "111       8   1.420171     0.892462\n",
              "981      15   1.420182     1.206077\n",
              "...     ...        ...          ...\n",
              "395   14711   1.451585     1.650321\n",
              "3992  14712   1.451588     1.441912\n",
              "2865  14713   1.451588     1.441912\n",
              "3560  14718   1.451599     1.690596\n",
              "3517  14720   1.451603     1.571387\n",
              "\n",
              "[4417 rows x 3 columns]"
            ]
          },
          "metadata": {
            "tags": []
          },
          "execution_count": 61
        }
      ]
    },
    {
      "cell_type": "code",
      "metadata": {
        "id": "xSqWswz6e7W7",
        "colab": {
          "base_uri": "https://localhost:8080/",
          "height": 296
        },
        "outputId": "6b8c2915-d3e7-49f5-a6a6-c3254e149015"
      },
      "source": [
        "plt.plot(df_label['unix_time'], df_label['PM2.5_seoul'], color='red')\n",
        "plt.xlabel('unix_time / 10^9')\n",
        "plt.ylabel('PM2.5(ug/m^3)')\n",
        "plt.title('Real PM2.5')\n",
        "plt.show()"
      ],
      "execution_count": null,
      "outputs": [
        {
          "output_type": "display_data",
          "data": {
            "image/png": "[encoded data removed]",
            "text/plain": [
              "<Figure size 432x288 with 1 Axes>"
            ]
          },
          "metadata": {
            "tags": [],
            "needs_background": "light"
          }
        }
      ]
    },
    {
      "cell_type": "code",
      "metadata": {
        "id": "cyXcdvv9f8rJ",
        "colab": {
          "base_uri": "https://localhost:8080/",
          "height": 296
        },
        "outputId": "9081d800-26e6-45cf-8b5e-067ec4410c6e"
      },
      "source": [
        "plt.plot(df_pred['unix_time'], df_pred['predictions'], color='blue')\n",
        "plt.xlabel('unix_time / 10^9')\n",
        "plt.ylabel('PM2.5(ug/m^3)')\n",
        "plt.title('Predict PM2.5')\n",
        "plt.show()"
      ],
      "execution_count": null,
      "outputs": [
        {
          "output_type": "display_data",
          "data": {
            "image/png": "[encoded data removed]",
            "text/plain": [
              "<Figure size 432x288 with 1 Axes>"
            ]
          },
          "metadata": {
            "tags": [],
            "needs_background": "light"
          }
        }
      ]
    },
    {
      "cell_type": "markdown",
      "metadata": {
        "id": "V0DcVclXAonF"
      },
      "source": [
        "# Result & Discussion"
      ]
    },
    {
      "cell_type": "markdown",
      "metadata": {
        "id": "PJ2BkqvZA02q"
      },
      "source": [
        "日本語:  \n",
        "  \n",
        "大韓民国のPM10とPM2.5は、中国で発生したものの影響を受けると推測され、上のようなソウルの空気質を予測する機械学習プロジェクトを実施しました。  \n",
        "  \n",
        "初期には北京の空気質、風向、風速のデータとソウルの空気質、風向、風速のデータのみを利用して予測を行いました。 この時北京から韓国まで空気の対流が到達する時間を考慮し、北京のデータは前日のデータと結合して学習を行いました。  \n",
        "  \n",
        "その結果、北京とソウルだけのデータで学習させた場合、予測の正確度が落ちる傾向を示しました。 これにより、中国の空気質に大きな影響を受けるペクリョン島の空気質、風向、風速のデータを追加することを決め、3つの地域のデータセットを利用して学習させた結果、予測の数値と実測の数値の差はありましたが、グラフの傾向は一致しました。\n",
        "  \n",
        "PM2.5の移動は対流現象と密接に関連しているため、機械学習だけでは中国の影響が大きいという結論を導き出す直接的な根拠にはなりませんが、一つの補助根拠として使われるものと判断され、中国のPM2.5程度によっては、韓国のPM2.5警報の発令を事前に実施できるものと判断されます。  \n",
        "  \n",
        "現在のプロジェクトの後の課題としては中国の協力をもらい、北京より大きな影響を与えると疑上海などの空気質、風向、風速のデータを提供してもらって、また、モデリングすることで機械学習の正確度を高めていくことが出来ると判断されております。"
      ]
    },
    {
      "cell_type": "markdown",
      "metadata": {
        "id": "QHwza4J0AuGO"
      },
      "source": [
        "한국어:  \n",
        "  \n",
        "대한민국의 미세먼지는 중국에서 만들어진 미세먼지에 영향을 받는다고 추측되어 위와 같은 서울의 공기질 예측 기계학습 프로젝트를 실시하였다.  \n",
        "  \n",
        "초기에는 베이징의 공기질, 풍향, 풍속 데이터와 서울의 공기질, 풍향, 풍속 데이터만을 이용하여 예측을 실시하였다. 이 때 베이징으로부터 대한민국까지 공기의 흐름이 도달하는 시간을 고려하여 베이징의 데이터는 하루 전 데이터와 결합하여 학습을 실시하였다.  \n",
        "  \n",
        "그 결과 베이징과 서울만의 데이터로 학습시킨 경우 예측도가 떨어지는 경향을 보였다. 이에 따라 중국의 공기질에 큰 영향을 받는 백령도의 공기질, 풍향, 풍속 데이터를 추가하기로 결정하였고 세 지역의 데이터셋을 이용하여 학습시킨 결과 예측과 실측의 값 자체는 차이를 보였으나 경향성이 일치하는 결과를 보여주었다.  \n",
        "  \n",
        "미세먼지의 이동은 대류현상과 밀접한 연관이 있기에, 기계학습 만으로는 중국의 영향이 지대하다는 결론을 도출할 직접적인 근거가 될 수는 없으나 하나의 보조근거로서 쓰일 수 있을 것으로 판단되고 중국의 미세먼지 정도에 따라 대한민국의 미세먼지경보 발령을 사전에 실시할 수 있을 것으로 판단된다.  \n",
        "  \n",
        "현 프로젝트의 보충과제로서는 중국과의 협력을 통해 베이징 이외의 실제로는 더 큰 영향을 줄 것으로 사료되는 상하이 등의 공기질, 풍향, 풍속 데이터를 제공받아 모델링하는 것으로 기계학습의 정확도를 높여줄 것으로 판단된다.\n",
        "\n",
        "--\n",
        "PM10의 데이터는 값의 편차가 커 예측 결과가 떨어지는 경향성을 보임."
      ]
    }
  ]
}